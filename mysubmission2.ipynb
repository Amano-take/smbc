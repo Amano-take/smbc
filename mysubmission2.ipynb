{
 "cells": [
  {
   "cell_type": "code",
   "execution_count": 2,
   "metadata": {},
   "outputs": [],
   "source": [
    "## 施設名のエンコーディング\n",
    "import numpy as np\n",
    "import pandas as pd\n",
    "import torch\n",
    "from transformers import BertTokenizer, BertModel\n",
    "from sklearn.model_selection import train_test_split\n",
    "from sklearn.preprocessing import StandardScaler\n",
    "from sklearn.metrics import mean_squared_log_error\n",
    "import torch.nn as nn\n",
    "import torch.optim as optim\n",
    "from torch.utils.data import DataLoader, Dataset"
   ]
  },
  {
   "cell_type": "code",
   "execution_count": 3,
   "metadata": {},
   "outputs": [],
   "source": [
    "class FacilityDataset(Dataset):\n",
    "    def __init__(self, facilities, targets=None):\n",
    "        self.facilities = facilities\n",
    "        self.targets = targets\n",
    "        self.tokenizer = BertTokenizer.from_pretrained('bert-base-uncased')\n",
    "        self.max_len = 128\n",
    "\n",
    "    def __len__(self):\n",
    "        return len(self.facilities)\n",
    "\n",
    "    def __getitem__(self, idx):\n",
    "        facility = str(self.facilities[idx])\n",
    "        inputs = self.tokenizer.encode_plus(\n",
    "            facility,\n",
    "            None,\n",
    "            add_special_tokens=True,\n",
    "            max_length=self.max_len,\n",
    "            padding='max_length',\n",
    "            return_token_type_ids=True,\n",
    "            truncation=True\n",
    "        )\n",
    "        ids = inputs['input_ids']\n",
    "        mask = inputs['attention_mask']\n",
    "        token_type_ids = inputs['token_type_ids']\n",
    "\n",
    "        if self.targets is not None:\n",
    "            return {\n",
    "                'ids': torch.tensor(ids, dtype=torch.long),\n",
    "                'mask': torch.tensor(mask, dtype=torch.long),\n",
    "                'token_type_ids': torch.tensor(token_type_ids, dtype=torch.long),\n",
    "                'targets': torch.tensor(self.targets[idx], dtype=torch.float)\n",
    "            }\n",
    "        else:\n",
    "            return {\n",
    "                'ids': torch.tensor(ids, dtype=torch.long),\n",
    "                'mask': torch.tensor(mask, dtype=torch.long),\n",
    "                'token_type_ids': torch.tensor(token_type_ids, dtype=torch.long)\n",
    "            }\n",
    "            \n",
    "train_df = pd.read_csv('train.csv')\n",
    "facilities = train_df['FacilityName'].values\n",
    "train_dataset = FacilityDataset(facilities, train_df['GHG_Direct_Emissions_14_in_metric_tons'].values)\n",
    "train_loader = DataLoader(train_dataset, batch_size=32, shuffle=True)"
   ]
  },
  {
   "cell_type": "code",
   "execution_count": 4,
   "metadata": {},
   "outputs": [],
   "source": [
    "class BertRegressor(nn.Module):\n",
    "    def __init__(self):\n",
    "        super(BertRegressor, self).__init__()\n",
    "        self.bert = BertModel.from_pretrained('bert-base-uncased')\n",
    "        self.dropout = nn.Dropout(0.3)\n",
    "        self.fc1 = nn.Linear(768, 256)\n",
    "        self.fc2 = nn.Linear(256, 1)\n",
    "    \n",
    "    def forward(self, ids, mask, token_type_ids):\n",
    "        outputs = self.bert(ids, attention_mask=mask, token_type_ids=token_type_ids)\n",
    "        pooled_output = outputs[1]  # BERTのプーリングされた出力を取得\n",
    "        x = self.dropout(pooled_output)\n",
    "        x = self.fc1(x)\n",
    "        x = nn.ReLU()(x)\n",
    "        x = self.fc2(x)\n",
    "        return x\n",
    "    \n",
    "def rmsle_loss(y_pred, y_true):\n",
    "    return torch.sqrt(torch.mean((torch.log1p(y_pred) - torch.log1p(y_true)) ** 2))"
   ]
  },
  {
   "cell_type": "code",
   "execution_count": null,
   "metadata": {},
   "outputs": [],
   "source": [
    "model = BertRegressor()\n",
    "model = model.to('cuda' if torch.cuda.is_available() else 'cpu')\n",
    "\n",
    "optimizer = optim.Adam(model.parameters(), lr=1e-5)\n",
    "\n",
    "def train_model(model, train_loader, optimizer, num_epochs=5):\n",
    "    model.train()\n",
    "    for epoch in range(num_epochs):\n",
    "        for batch in train_loader:\n",
    "            ids = batch['ids'].to('cuda' if torch.cuda.is_available() else 'cpu')\n",
    "            mask = batch['mask'].to('cuda' if torch.cuda.is_available() else 'cpu')\n",
    "            token_type_ids = batch['token_type_ids'].to('cuda' if torch.cuda.is_available() else 'cpu')\n",
    "            targets = batch['targets'].to('cuda' if torch.cuda.is_available() else 'cpu')\n",
    "\n",
    "            outputs = model(ids, mask, token_type_ids)\n",
    "            loss = rmsle_loss(outputs, targets.unsqueeze(1))\n",
    "\n",
    "            optimizer.zero_grad()\n",
    "            loss.backward()\n",
    "            optimizer.step()\n",
    "\n",
    "        print(f'Epoch {epoch+1}/{num_epochs}, Loss: {loss.item()}')\n",
    "\n",
    "train_model(model, train_loader, optimizer, num_epochs=5)"
   ]
  },
  {
   "cell_type": "markdown",
   "metadata": {},
   "source": [
    "## 本題"
   ]
  },
  {
   "cell_type": "code",
   "execution_count": 19,
   "metadata": {},
   "outputs": [],
   "source": [
    "import warnings\n",
    "warnings.filterwarnings(\"ignore\")\n",
    "\n",
    "import numpy as np\n",
    "import pandas as pd\n",
    "from tqdm import tqdm\n",
    "import joblib\n",
    "\n",
    "from lightgbm import LGBMRegressor\n",
    "from catboost import CatBoostRegressor\n",
    "from xgboost import XGBRegressor\n",
    "from sklearn.ensemble import HistGradientBoostingRegressor\n",
    "\n",
    "\n",
    "from sklearn.model_selection import KFold\n",
    "from sklearn.metrics import *\n",
    "\n",
    "import gc\n",
    "gc.collect()\n",
    "\n",
    "import os\n",
    "\n",
    "def root_mean_squared_log_error(y_true, y_pred):\n",
    "    # 負の値を調整\n",
    "    y_pred[y_pred < 0] = 0\n",
    "    \n",
    "    return np.sqrt(mean_squared_log_error(y_true, y_pred))\n",
    "\n",
    "def root_mean_squared_error(y_true, y_pred):\n",
    "    return np.sqrt(mean_squared_error(y_true, y_pred))"
   ]
  },
  {
   "cell_type": "code",
   "execution_count": 20,
   "metadata": {},
   "outputs": [],
   "source": [
    "train_df = pd.read_csv('train.csv')\n",
    "test_df  = pd.read_csv('test.csv')\n",
    "del train_df['Unnamed: 0'], test_df['Unnamed: 0']\n",
    "del train_df[\"County\"], test_df[\"County\"]"
   ]
  },
  {
   "cell_type": "code",
   "execution_count": 21,
   "metadata": {},
   "outputs": [
    {
     "data": {
      "text/html": [
       "<div>\n",
       "<style scoped>\n",
       "    .dataframe tbody tr th:only-of-type {\n",
       "        vertical-align: middle;\n",
       "    }\n",
       "\n",
       "    .dataframe tbody tr th {\n",
       "        vertical-align: top;\n",
       "    }\n",
       "\n",
       "    .dataframe thead th {\n",
       "        text-align: right;\n",
       "    }\n",
       "</style>\n",
       "<table border=\"1\" class=\"dataframe\">\n",
       "  <thead>\n",
       "    <tr style=\"text-align: right;\">\n",
       "      <th></th>\n",
       "      <th>FacilityName</th>\n",
       "      <th>Latitude</th>\n",
       "      <th>Longitude</th>\n",
       "      <th>LocationAddress</th>\n",
       "      <th>City</th>\n",
       "      <th>State</th>\n",
       "      <th>ZIP</th>\n",
       "      <th>FIPScode</th>\n",
       "      <th>PrimaryNAICS</th>\n",
       "      <th>SecondPrimaryNAICS</th>\n",
       "      <th>IndustryType</th>\n",
       "      <th>TRI_Air_Emissions_10_in_lbs</th>\n",
       "      <th>TRI_Air_Emissions_11_in_lbs</th>\n",
       "      <th>TRI_Air_Emissions_12_in_lbs</th>\n",
       "      <th>TRI_Air_Emissions_13_in_lbs</th>\n",
       "      <th>GHG_Direct_Emissions_10_in_metric_tons</th>\n",
       "      <th>GHG_Direct_Emissions_11_in_metric_tons</th>\n",
       "      <th>GHG_Direct_Emissions_12_in_metric_tons</th>\n",
       "      <th>GHG_Direct_Emissions_13_in_metric_tons</th>\n",
       "      <th>GHG_Direct_Emissions_14_in_metric_tons</th>\n",
       "    </tr>\n",
       "  </thead>\n",
       "  <tbody>\n",
       "    <tr>\n",
       "      <th>1425</th>\n",
       "      <td>LYONDELL CHEMICAL CO BAYPORT FACILITY (PART)</td>\n",
       "      <td>29.625384</td>\n",
       "      <td>-95.051502</td>\n",
       "      <td>10801 CHOATE RD</td>\n",
       "      <td>PASADENA</td>\n",
       "      <td>TX</td>\n",
       "      <td>77507</td>\n",
       "      <td>48201.0</td>\n",
       "      <td>325110</td>\n",
       "      <td>NaN</td>\n",
       "      <td>Chemicals</td>\n",
       "      <td>28023.030411</td>\n",
       "      <td>27741.036601</td>\n",
       "      <td>18777.134585</td>\n",
       "      <td>19071.029897</td>\n",
       "      <td>87629.120711</td>\n",
       "      <td>40902.599635</td>\n",
       "      <td>36729.412409</td>\n",
       "      <td>20205.019097</td>\n",
       "      <td>50871.102991</td>\n",
       "    </tr>\n",
       "    <tr>\n",
       "      <th>1737</th>\n",
       "      <td>FLORIDA POWER CORP ANCLOTE POWER PLANT</td>\n",
       "      <td>28.184215</td>\n",
       "      <td>-82.787895</td>\n",
       "      <td>1729 BAILEYS BLUFF ROAD</td>\n",
       "      <td>HOLIDAY</td>\n",
       "      <td>FL</td>\n",
       "      <td>34691-9753</td>\n",
       "      <td>12101.0</td>\n",
       "      <td>221112</td>\n",
       "      <td>NaN</td>\n",
       "      <td>Power Plants</td>\n",
       "      <td>NaN</td>\n",
       "      <td>NaN</td>\n",
       "      <td>NaN</td>\n",
       "      <td>NaN</td>\n",
       "      <td>64672.888195</td>\n",
       "      <td>75203.375832</td>\n",
       "      <td>223000.703883</td>\n",
       "      <td>63742.779760</td>\n",
       "      <td>64022.348676</td>\n",
       "    </tr>\n",
       "    <tr>\n",
       "      <th>3675</th>\n",
       "      <td>BPXA GATHERING CENTER #2</td>\n",
       "      <td>70.310918</td>\n",
       "      <td>-148.862927</td>\n",
       "      <td>NaN</td>\n",
       "      <td>PRUDHOE BAY</td>\n",
       "      <td>AK</td>\n",
       "      <td>99734</td>\n",
       "      <td>2185.0</td>\n",
       "      <td>211111</td>\n",
       "      <td>NaN</td>\n",
       "      <td>Petroleum and Natural Gas Systems</td>\n",
       "      <td>NaN</td>\n",
       "      <td>NaN</td>\n",
       "      <td>NaN</td>\n",
       "      <td>NaN</td>\n",
       "      <td>76801.141988</td>\n",
       "      <td>19592.340926</td>\n",
       "      <td>49398.888332</td>\n",
       "      <td>57446.583282</td>\n",
       "      <td>52843.387000</td>\n",
       "    </tr>\n",
       "    <tr>\n",
       "      <th>2105</th>\n",
       "      <td>PUBLIC SERVICE COMPANY OF COLORADO CHEROKEE ST...</td>\n",
       "      <td>39.807769</td>\n",
       "      <td>-104.964802</td>\n",
       "      <td>6198 FRANKLIN ST</td>\n",
       "      <td>DENVER</td>\n",
       "      <td>CO</td>\n",
       "      <td>80216</td>\n",
       "      <td>8001.0</td>\n",
       "      <td>221112</td>\n",
       "      <td>NaN</td>\n",
       "      <td>Power Plants</td>\n",
       "      <td>25294.025051</td>\n",
       "      <td>38122.055403</td>\n",
       "      <td>31830.564969</td>\n",
       "      <td>30393.495614</td>\n",
       "      <td>77560.083870</td>\n",
       "      <td>74257.215454</td>\n",
       "      <td>74812.230558</td>\n",
       "      <td>41506.871458</td>\n",
       "      <td>50706.845450</td>\n",
       "    </tr>\n",
       "    <tr>\n",
       "      <th>3430</th>\n",
       "      <td>GEORGIA PACIFIC GYPSUM LLC- SAVANNAH</td>\n",
       "      <td>32.074700</td>\n",
       "      <td>-81.052360</td>\n",
       "      <td>151 WAHLSTROM RD</td>\n",
       "      <td>SAVANNAH</td>\n",
       "      <td>GA</td>\n",
       "      <td>31404</td>\n",
       "      <td>13051.0</td>\n",
       "      <td>327420</td>\n",
       "      <td>NaN</td>\n",
       "      <td>Minerals</td>\n",
       "      <td>NaN</td>\n",
       "      <td>NaN</td>\n",
       "      <td>NaN</td>\n",
       "      <td>NaN</td>\n",
       "      <td>75214.551329</td>\n",
       "      <td>46898.177924</td>\n",
       "      <td>48857.985054</td>\n",
       "      <td>74889.160348</td>\n",
       "      <td>63854.405989</td>\n",
       "    </tr>\n",
       "  </tbody>\n",
       "</table>\n",
       "</div>"
      ],
      "text/plain": [
       "                                           FacilityName   Latitude  \\\n",
       "1425       LYONDELL CHEMICAL CO BAYPORT FACILITY (PART)  29.625384   \n",
       "1737             FLORIDA POWER CORP ANCLOTE POWER PLANT  28.184215   \n",
       "3675                           BPXA GATHERING CENTER #2  70.310918   \n",
       "2105  PUBLIC SERVICE COMPANY OF COLORADO CHEROKEE ST...  39.807769   \n",
       "3430               GEORGIA PACIFIC GYPSUM LLC- SAVANNAH  32.074700   \n",
       "\n",
       "       Longitude          LocationAddress         City State         ZIP  \\\n",
       "1425  -95.051502          10801 CHOATE RD     PASADENA    TX       77507   \n",
       "1737  -82.787895  1729 BAILEYS BLUFF ROAD      HOLIDAY    FL  34691-9753   \n",
       "3675 -148.862927                      NaN  PRUDHOE BAY    AK       99734   \n",
       "2105 -104.964802         6198 FRANKLIN ST       DENVER    CO       80216   \n",
       "3430  -81.052360         151 WAHLSTROM RD     SAVANNAH    GA       31404   \n",
       "\n",
       "      FIPScode  PrimaryNAICS  SecondPrimaryNAICS  \\\n",
       "1425   48201.0        325110                 NaN   \n",
       "1737   12101.0        221112                 NaN   \n",
       "3675    2185.0        211111                 NaN   \n",
       "2105    8001.0        221112                 NaN   \n",
       "3430   13051.0        327420                 NaN   \n",
       "\n",
       "                           IndustryType  TRI_Air_Emissions_10_in_lbs  \\\n",
       "1425                          Chemicals                 28023.030411   \n",
       "1737                       Power Plants                          NaN   \n",
       "3675  Petroleum and Natural Gas Systems                          NaN   \n",
       "2105                       Power Plants                 25294.025051   \n",
       "3430                           Minerals                          NaN   \n",
       "\n",
       "      TRI_Air_Emissions_11_in_lbs  TRI_Air_Emissions_12_in_lbs  \\\n",
       "1425                 27741.036601                 18777.134585   \n",
       "1737                          NaN                          NaN   \n",
       "3675                          NaN                          NaN   \n",
       "2105                 38122.055403                 31830.564969   \n",
       "3430                          NaN                          NaN   \n",
       "\n",
       "      TRI_Air_Emissions_13_in_lbs  GHG_Direct_Emissions_10_in_metric_tons  \\\n",
       "1425                 19071.029897                            87629.120711   \n",
       "1737                          NaN                            64672.888195   \n",
       "3675                          NaN                            76801.141988   \n",
       "2105                 30393.495614                            77560.083870   \n",
       "3430                          NaN                            75214.551329   \n",
       "\n",
       "      GHG_Direct_Emissions_11_in_metric_tons  \\\n",
       "1425                            40902.599635   \n",
       "1737                            75203.375832   \n",
       "3675                            19592.340926   \n",
       "2105                            74257.215454   \n",
       "3430                            46898.177924   \n",
       "\n",
       "      GHG_Direct_Emissions_12_in_metric_tons  \\\n",
       "1425                            36729.412409   \n",
       "1737                           223000.703883   \n",
       "3675                            49398.888332   \n",
       "2105                            74812.230558   \n",
       "3430                            48857.985054   \n",
       "\n",
       "      GHG_Direct_Emissions_13_in_metric_tons  \\\n",
       "1425                            20205.019097   \n",
       "1737                            63742.779760   \n",
       "3675                            57446.583282   \n",
       "2105                            41506.871458   \n",
       "3430                            74889.160348   \n",
       "\n",
       "      GHG_Direct_Emissions_14_in_metric_tons  \n",
       "1425                            50871.102991  \n",
       "1737                            64022.348676  \n",
       "3675                            52843.387000  \n",
       "2105                            50706.845450  \n",
       "3430                            63854.405989  "
      ]
     },
     "execution_count": 21,
     "metadata": {},
     "output_type": "execute_result"
    }
   ],
   "source": [
    "train_df.sample(5)"
   ]
  },
  {
   "cell_type": "code",
   "execution_count": 22,
   "metadata": {},
   "outputs": [],
   "source": [
    "numerical_columns = train_df.select_dtypes(include=[np.number]).columns.tolist()\n",
    "numerical_columns.remove('GHG_Direct_Emissions_14_in_metric_tons')\n",
    "lat_lon_columns   = ['Latitude','Longitude']\n",
    "target_columns    = ['GHG_Direct_Emissions_14_in_metric_tons']\n",
    "categorical_columns = list(set(train_df.columns)-((set(numerical_columns) | set(lat_lon_columns) | set(target_columns))))"
   ]
  },
  {
   "cell_type": "markdown",
   "metadata": {},
   "source": [
    "## 前処理"
   ]
  },
  {
   "cell_type": "markdown",
   "metadata": {},
   "source": [
    "### targetの変更"
   ]
  },
  {
   "cell_type": "code",
   "execution_count": 23,
   "metadata": {},
   "outputs": [],
   "source": [
    "# GHG_Direct_Emissions_13が欠損している行は別で予測する\n",
    "train_df_without_13 = train_df[train_df['GHG_Direct_Emissions_13_in_metric_tons'].isnull()]\n",
    "train_df = train_df.dropna(subset=['GHG_Direct_Emissions_13_in_metric_tons'])\n",
    "\n",
    "test_df_without_13 = test_df[test_df['GHG_Direct_Emissions_13_in_metric_tons'].isnull()]\n",
    "test_df = test_df.dropna(subset=['GHG_Direct_Emissions_13_in_metric_tons'])\n",
    "\n",
    "# indexの付け替え\n",
    "train_df = train_df.reset_index(drop=True)"
   ]
  },
  {
   "cell_type": "code",
   "execution_count": 38,
   "metadata": {},
   "outputs": [],
   "source": [
    "# 新しいコラムを追加\n",
    "new_columns = ['GHG_Direct_Emissions_Change_13_14']\n",
    "\n",
    "# GHG_Direct_Emissions_14と_13の変化量を計算\n",
    "train_df['GHG_Direct_Emissions_Change_13_14'] = train_df['GHG_Direct_Emissions_14_in_metric_tons'] / train_df['GHG_Direct_Emissions_13_in_metric_tons']\n",
    "\n",
    "# target_columnsを変更\n",
    "target_columns = ['GHG_Direct_Emissions_Change_13_14']\n",
    "\n",
    "# target_columnsの欠損値がないことをチェック\n",
    "assert train_df[target_columns].isnull().sum().sum() == 0"
   ]
  },
  {
   "cell_type": "markdown",
   "metadata": {},
   "source": [
    "### City"
   ]
  },
  {
   "cell_type": "code",
   "execution_count": 25,
   "metadata": {},
   "outputs": [],
   "source": [
    "# # target encoding for city column\n",
    "# City_median = train_df.groupby('City').GHG_Direct_Emissions_14_in_metric_tons.median()\n",
    "# train_df['City_median'] = train_df['City'].map(City_median)\n",
    "# test_df['City_median'] = test_df['City'].map(City_median)\n",
    "\n",
    "# # if city is not present in test data then fill it with global median\n",
    "# test_df['City_median'] = test_df['City_median'].fillna(train_df.GHG_Direct_Emissions_14_in_metric_tons.median())\n",
    "# numerical_columns.append('City_median')"
   ]
  },
  {
   "cell_type": "code",
   "execution_count": 26,
   "metadata": {},
   "outputs": [
    {
     "name": "stderr",
     "output_type": "stream",
     "text": [
      "100%|██████████| 6/6 [00:00<00:00, 17.97it/s]\n"
     ]
    }
   ],
   "source": [
    "def Holdout_target_encoding(train, test, target, categorical_columns, folds=10):\n",
    "    kf = KFold(n_splits=folds, shuffle=True, random_state=13)\n",
    "    for col in tqdm(categorical_columns):\n",
    "        train[col + '_enc'] = np.nan\n",
    "        for train_index, valid_index in kf.split(train):\n",
    "            X_train, X_valid = train.iloc[train_index], train.iloc[valid_index]\n",
    "            means = X_valid[col].map(X_train.groupby(col)[target].mean())\n",
    "            train.loc[valid_index, col + '_enc'] = means\n",
    "        test[col + '_enc'] = test[col].map(train.groupby(col)[target].mean())\n",
    "        test[col + '_enc'].fillna(train[target].mean(), inplace=True)\n",
    "    return train, test\n",
    "    \n",
    "train_df, test_df = Holdout_target_encoding(train_df, test_df, target_columns[0], categorical_columns)\n",
    "numerical_columns += [col + '_enc' for col in categorical_columns]"
   ]
  },
  {
   "cell_type": "code",
   "execution_count": 27,
   "metadata": {},
   "outputs": [],
   "source": [
    "def overlapping_values(colname,train_df,test_df):\n",
    "    '''\n",
    "        Returns the overlapping values in train data for the values present in test data. \n",
    "    '''\n",
    "    train_unique = set(train_df[colname].unique())\n",
    "    test_unique  = set(test_df[colname].unique())\n",
    "    intersection = test_unique & train_unique\n",
    "    return len(intersection)/test_df.shape[0]"
   ]
  },
  {
   "cell_type": "code",
   "execution_count": 28,
   "metadata": {},
   "outputs": [
    {
     "name": "stdout",
     "output_type": "stream",
     "text": [
      "column - LocationAddress has 1.0677618069815196% values in train data\n",
      "column - City has 33.880903490759756% values in train data\n",
      "column - ZIP has 20.985626283367555% values in train data\n",
      "column - FacilityName has 3.6139630390143735% values in train data\n",
      "column - State has 2.217659137577002% values in train data\n",
      "column - IndustryType has 1.5605749486652978% values in train data\n"
     ]
    }
   ],
   "source": [
    "for colname in categorical_columns:\n",
    "    overlap = overlapping_values(colname,train_df,test_df)\n",
    "    print(f'column - {colname} has {overlap*100}% values in train data')"
   ]
  },
  {
   "cell_type": "code",
   "execution_count": 29,
   "metadata": {},
   "outputs": [],
   "source": [
    "def create_features1(df):\n",
    "    # Year-over-year difference\n",
    "    df['TRI_Air_Emissions_YoY_Change_11'] = df['TRI_Air_Emissions_11_in_lbs'] - df['TRI_Air_Emissions_10_in_lbs']\n",
    "    df['TRI_Air_Emissions_YoY_Change_12'] = df['TRI_Air_Emissions_12_in_lbs'] - df['TRI_Air_Emissions_11_in_lbs']\n",
    "    df['TRI_Air_Emissions_YoY_Change_13'] = df['TRI_Air_Emissions_13_in_lbs'] - df['TRI_Air_Emissions_12_in_lbs']\n",
    "\n",
    "    # Year-over-year growth rate\n",
    "    df['TRI_Air_Emissions_Growth_Rate_11'] = (df['TRI_Air_Emissions_11_in_lbs'] - df['TRI_Air_Emissions_10_in_lbs']) / df['TRI_Air_Emissions_10_in_lbs']\n",
    "    df['TRI_Air_Emissions_Growth_Rate_12'] = (df['TRI_Air_Emissions_12_in_lbs'] - df['TRI_Air_Emissions_11_in_lbs']) / df['TRI_Air_Emissions_11_in_lbs']\n",
    "    df['TRI_Air_Emissions_Growth_Rate_13'] = (df['TRI_Air_Emissions_13_in_lbs'] - df['TRI_Air_Emissions_12_in_lbs']) / df['TRI_Air_Emissions_12_in_lbs']\n",
    "\n",
    "    return df\n",
    "\n",
    "\n",
    "def create_features2(df):\n",
    "    df['TRI_to_GHG_Ratio_10'] = df['TRI_Air_Emissions_10_in_lbs'] / (df['GHG_Direct_Emissions_10_in_metric_tons'] + 1e-6)  # Avoid division by zero\n",
    "    df['TRI_to_GHG_Ratio_11'] = df['TRI_Air_Emissions_11_in_lbs'] / (df['GHG_Direct_Emissions_11_in_metric_tons'] + 1e-6)\n",
    "    df['TRI_to_GHG_Ratio_12'] = df['TRI_Air_Emissions_12_in_lbs'] / (df['GHG_Direct_Emissions_12_in_metric_tons'] + 1e-6)\n",
    "    df['TRI_to_GHG_Ratio_13'] = df['TRI_Air_Emissions_13_in_lbs'] / (df['GHG_Direct_Emissions_13_in_metric_tons'] + 1e-6)\n",
    "    return df"
   ]
  },
  {
   "cell_type": "code",
   "execution_count": 30,
   "metadata": {},
   "outputs": [],
   "source": [
    "train_df      = create_features1(train_df)\n",
    "test_df       = create_features1(test_df)\n",
    "new_features1 = ['TRI_Air_Emissions_YoY_Change_11','TRI_Air_Emissions_YoY_Change_12','TRI_Air_Emissions_YoY_Change_13',\n",
    "                     'TRI_Air_Emissions_Growth_Rate_11','TRI_Air_Emissions_Growth_Rate_12','TRI_Air_Emissions_Growth_Rate_13']\n",
    "\n",
    "\n",
    "train_df      = create_features2(train_df)\n",
    "test_df       = create_features2(test_df)\n",
    "new_features2 = ['TRI_to_GHG_Ratio_10','TRI_to_GHG_Ratio_11','TRI_to_GHG_Ratio_12','TRI_to_GHG_Ratio_13']\n",
    "\n",
    "numerical_columns += new_features1 + new_features2"
   ]
  },
  {
   "cell_type": "code",
   "execution_count": 39,
   "metadata": {},
   "outputs": [],
   "source": [
    "train = train_df[numerical_columns].values \n",
    "test  = test_df[numerical_columns].values \n",
    "target = train_df[target_columns].values"
   ]
  },
  {
   "cell_type": "markdown",
   "metadata": {},
   "source": [
    "## Optuna"
   ]
  },
  {
   "cell_type": "code",
   "execution_count": 40,
   "metadata": {},
   "outputs": [
    {
     "name": "stderr",
     "output_type": "stream",
     "text": [
      "[I 2024-11-06 08:11:45,576] A new study created in memory with name: no-name-da028fb5-8fc0-4ab1-9e09-2ce96ca6da7b\n",
      "[I 2024-11-06 08:11:48,765] Trial 0 finished with value: 4.086732089099344 and parameters: {'n_estimators': 507, 'learning_rate': 0.07588254097644191, 'num_leaves': 127, 'max_depth': 9, 'min_child_samples': 60, 'subsample': 0.6414342092356422, 'colsample_bytree': 0.783257319938534, 'reg_alpha': 0.0019190396161803337, 'reg_lambda': 0.22609474611146183}. Best is trial 0 with value: 4.086732089099344.\n"
     ]
    },
    {
     "name": "stdout",
     "output_type": "stream",
     "text": [
      "RMSE: 4.086732089099344\n"
     ]
    },
    {
     "name": "stderr",
     "output_type": "stream",
     "text": [
      "[I 2024-11-06 08:11:53,870] Trial 1 finished with value: 1.2165312283594325 and parameters: {'n_estimators': 716, 'learning_rate': 0.00010419878329982345, 'num_leaves': 40, 'max_depth': 8, 'min_child_samples': 90, 'subsample': 0.8949171201568895, 'colsample_bytree': 0.7947592579856675, 'reg_alpha': 0.017224330590635294, 'reg_lambda': 0.0005851636334605086}. Best is trial 1 with value: 1.2165312283594325.\n"
     ]
    },
    {
     "name": "stdout",
     "output_type": "stream",
     "text": [
      "RMSE: 1.2165312283594325\n"
     ]
    },
    {
     "name": "stderr",
     "output_type": "stream",
     "text": [
      "[I 2024-11-06 08:11:57,522] Trial 2 finished with value: 1.1881649069354208 and parameters: {'n_estimators': 881, 'learning_rate': 0.00017281304972284773, 'num_leaves': 290, 'max_depth': 5, 'min_child_samples': 89, 'subsample': 0.8542629480083004, 'colsample_bytree': 0.9746800523398798, 'reg_alpha': 0.000161250004319742, 'reg_lambda': 0.06251519606304298}. Best is trial 2 with value: 1.1881649069354208.\n"
     ]
    },
    {
     "name": "stdout",
     "output_type": "stream",
     "text": [
      "RMSE: 1.1881649069354208\n"
     ]
    },
    {
     "name": "stderr",
     "output_type": "stream",
     "text": [
      "[I 2024-11-06 08:12:01,873] Trial 3 finished with value: 1.235391388181795 and parameters: {'n_estimators': 712, 'learning_rate': 5.204422501197352e-05, 'num_leaves': 238, 'max_depth': 11, 'min_child_samples': 63, 'subsample': 0.6501783985009637, 'colsample_bytree': 0.5337709781920089, 'reg_alpha': 0.060033114740039834, 'reg_lambda': 6.479167875926076}. Best is trial 2 with value: 1.1881649069354208.\n"
     ]
    },
    {
     "name": "stdout",
     "output_type": "stream",
     "text": [
      "RMSE: 1.235391388181795\n"
     ]
    },
    {
     "name": "stderr",
     "output_type": "stream",
     "text": [
      "[I 2024-11-06 08:12:08,689] Trial 4 finished with value: 3.7035646417656123 and parameters: {'n_estimators': 514, 'learning_rate': 0.047982613496795536, 'num_leaves': 192, 'max_depth': 11, 'min_child_samples': 31, 'subsample': 0.6979766253626924, 'colsample_bytree': 0.8036917219593084, 'reg_alpha': 1.0641207856169317, 'reg_lambda': 0.0779496453476757}. Best is trial 2 with value: 1.1881649069354208.\n"
     ]
    },
    {
     "name": "stdout",
     "output_type": "stream",
     "text": [
      "RMSE: 3.7035646417656123\n"
     ]
    },
    {
     "name": "stderr",
     "output_type": "stream",
     "text": [
      "[I 2024-11-06 08:12:11,141] Trial 5 finished with value: 1.2411548733200868 and parameters: {'n_estimators': 871, 'learning_rate': 1.941437696528286e-05, 'num_leaves': 293, 'max_depth': 4, 'min_child_samples': 37, 'subsample': 0.9278726484416878, 'colsample_bytree': 0.5140552832142409, 'reg_alpha': 0.00011451439470649331, 'reg_lambda': 0.00021965144789547268}. Best is trial 2 with value: 1.1881649069354208.\n"
     ]
    },
    {
     "name": "stdout",
     "output_type": "stream",
     "text": [
      "RMSE: 1.2411548733200868\n"
     ]
    },
    {
     "name": "stderr",
     "output_type": "stream",
     "text": [
      "[I 2024-11-06 08:12:12,307] Trial 6 finished with value: 1.2197853698804224 and parameters: {'n_estimators': 460, 'learning_rate': 0.00018322480328526294, 'num_leaves': 133, 'max_depth': 4, 'min_child_samples': 17, 'subsample': 0.9310174902044087, 'colsample_bytree': 0.5391394175513308, 'reg_alpha': 0.00011762797032926091, 'reg_lambda': 0.16854167462483935}. Best is trial 2 with value: 1.1881649069354208.\n"
     ]
    },
    {
     "name": "stdout",
     "output_type": "stream",
     "text": [
      "RMSE: 1.2197853698804224\n"
     ]
    },
    {
     "name": "stderr",
     "output_type": "stream",
     "text": [
      "[I 2024-11-06 08:12:18,551] Trial 7 finished with value: 1.2076518449718616 and parameters: {'n_estimators': 765, 'learning_rate': 0.0001330023884793819, 'num_leaves': 282, 'max_depth': 7, 'min_child_samples': 6, 'subsample': 0.7218669532931514, 'colsample_bytree': 0.6936066221388699, 'reg_alpha': 0.028351220361758918, 'reg_lambda': 0.001552811370305948}. Best is trial 2 with value: 1.1881649069354208.\n"
     ]
    },
    {
     "name": "stdout",
     "output_type": "stream",
     "text": [
      "RMSE: 1.2076518449718616\n"
     ]
    },
    {
     "name": "stderr",
     "output_type": "stream",
     "text": [
      "[I 2024-11-06 08:12:25,399] Trial 8 finished with value: 4.0466870257565235 and parameters: {'n_estimators': 857, 'learning_rate': 0.049251644719159986, 'num_leaves': 275, 'max_depth': 10, 'min_child_samples': 90, 'subsample': 0.6580027236236149, 'colsample_bytree': 0.8372195024491329, 'reg_alpha': 0.005614017726126549, 'reg_lambda': 0.004475284496158478}. Best is trial 2 with value: 1.1881649069354208.\n"
     ]
    },
    {
     "name": "stdout",
     "output_type": "stream",
     "text": [
      "RMSE: 4.0466870257565235\n"
     ]
    },
    {
     "name": "stderr",
     "output_type": "stream",
     "text": [
      "[I 2024-11-06 08:12:33,145] Trial 9 finished with value: 4.0817794574404385 and parameters: {'n_estimators': 794, 'learning_rate': 0.03028426815417281, 'num_leaves': 188, 'max_depth': 12, 'min_child_samples': 49, 'subsample': 0.5578818852457782, 'colsample_bytree': 0.6892305160048788, 'reg_alpha': 0.16419446305988253, 'reg_lambda': 0.030149897327250236}. Best is trial 2 with value: 1.1881649069354208.\n"
     ]
    },
    {
     "name": "stdout",
     "output_type": "stream",
     "text": [
      "RMSE: 4.0817794574404385\n"
     ]
    },
    {
     "name": "stderr",
     "output_type": "stream",
     "text": [
      "[I 2024-11-06 08:12:33,867] Trial 10 finished with value: 1.0808469001050889 and parameters: {'n_estimators': 142, 'learning_rate': 0.004505826657292614, 'num_leaves': 51, 'max_depth': 6, 'min_child_samples': 99, 'subsample': 0.8281388100343562, 'colsample_bytree': 0.9921458461628395, 'reg_alpha': 8.277967616326217, 'reg_lambda': 2.8710222625321067}. Best is trial 10 with value: 1.0808469001050889.\n"
     ]
    },
    {
     "name": "stdout",
     "output_type": "stream",
     "text": [
      "RMSE: 1.0808469001050889\n"
     ]
    },
    {
     "name": "stderr",
     "output_type": "stream",
     "text": [
      "[I 2024-11-06 08:12:35,351] Trial 11 finished with value: 1.134485212988915 and parameters: {'n_estimators': 130, 'learning_rate': 0.002771603229751232, 'num_leaves': 27, 'max_depth': 6, 'min_child_samples': 99, 'subsample': 0.8185482132757679, 'colsample_bytree': 0.992398188352697, 'reg_alpha': 3.861600671811088, 'reg_lambda': 5.507977916510842}. Best is trial 10 with value: 1.0808469001050889.\n"
     ]
    },
    {
     "name": "stdout",
     "output_type": "stream",
     "text": [
      "RMSE: 1.134485212988915\n"
     ]
    },
    {
     "name": "stderr",
     "output_type": "stream",
     "text": [
      "[I 2024-11-06 08:12:36,004] Trial 12 finished with value: 1.1029988948062477 and parameters: {'n_estimators': 118, 'learning_rate': 0.004283400572939202, 'num_leaves': 23, 'max_depth': 6, 'min_child_samples': 74, 'subsample': 0.8095208450687554, 'colsample_bytree': 0.986873782458482, 'reg_alpha': 6.5648767058275075, 'reg_lambda': 6.1776434656409265}. Best is trial 10 with value: 1.0808469001050889.\n"
     ]
    },
    {
     "name": "stdout",
     "output_type": "stream",
     "text": [
      "RMSE: 1.1029988948062477\n"
     ]
    },
    {
     "name": "stderr",
     "output_type": "stream",
     "text": [
      "[I 2024-11-06 08:12:36,356] Trial 13 finished with value: 1.156574682195719 and parameters: {'n_estimators': 101, 'learning_rate': 0.0037486015197935115, 'num_leaves': 76, 'max_depth': 3, 'min_child_samples': 73, 'subsample': 0.8119997289262751, 'colsample_bytree': 0.9064192307299852, 'reg_alpha': 6.42901824106364, 'reg_lambda': 1.6042929844995806}. Best is trial 10 with value: 1.0808469001050889.\n"
     ]
    },
    {
     "name": "stdout",
     "output_type": "stream",
     "text": [
      "RMSE: 1.156574682195719\n"
     ]
    },
    {
     "name": "stderr",
     "output_type": "stream",
     "text": [
      "[I 2024-11-06 08:12:37,662] Trial 14 finished with value: 0.9744170517955221 and parameters: {'n_estimators': 303, 'learning_rate': 0.010044854142010956, 'num_leaves': 77, 'max_depth': 6, 'min_child_samples': 79, 'subsample': 0.9982446352803747, 'colsample_bytree': 0.9117285885135283, 'reg_alpha': 0.557755845711488, 'reg_lambda': 0.9783354413534056}. Best is trial 14 with value: 0.9744170517955221.\n"
     ]
    },
    {
     "name": "stdout",
     "output_type": "stream",
     "text": [
      "RMSE: 0.9744170517955221\n"
     ]
    },
    {
     "name": "stderr",
     "output_type": "stream",
     "text": [
      "[I 2024-11-06 08:12:38,993] Trial 15 finished with value: 0.9809275327060554 and parameters: {'n_estimators': 300, 'learning_rate': 0.013512627538079226, 'num_leaves': 85, 'max_depth': 7, 'min_child_samples': 77, 'subsample': 0.9847002746075841, 'colsample_bytree': 0.8998469266940978, 'reg_alpha': 0.5575981651567173, 'reg_lambda': 0.8181520288570836}. Best is trial 14 with value: 0.9744170517955221.\n"
     ]
    },
    {
     "name": "stdout",
     "output_type": "stream",
     "text": [
      "RMSE: 0.9809275327060554\n"
     ]
    },
    {
     "name": "stderr",
     "output_type": "stream",
     "text": [
      "[I 2024-11-06 08:12:40,769] Trial 16 finished with value: 1.0347293354227391 and parameters: {'n_estimators': 309, 'learning_rate': 0.014610715656425393, 'num_leaves': 90, 'max_depth': 8, 'min_child_samples': 76, 'subsample': 0.9967826856682472, 'colsample_bytree': 0.8921587873560322, 'reg_alpha': 0.3597141287421139, 'reg_lambda': 0.6943117376583714}. Best is trial 14 with value: 0.9744170517955221.\n"
     ]
    },
    {
     "name": "stdout",
     "output_type": "stream",
     "text": [
      "RMSE: 1.0347293354227391\n"
     ]
    },
    {
     "name": "stderr",
     "output_type": "stream",
     "text": [
      "[I 2024-11-06 08:12:42,355] Trial 17 finished with value: 1.1714331237458953 and parameters: {'n_estimators': 294, 'learning_rate': 0.0006846234022017621, 'num_leaves': 95, 'max_depth': 7, 'min_child_samples': 49, 'subsample': 0.9845708585997333, 'colsample_bytree': 0.8964630639489293, 'reg_alpha': 0.6422505706554786, 'reg_lambda': 0.01662950700279435}. Best is trial 14 with value: 0.9744170517955221.\n"
     ]
    },
    {
     "name": "stdout",
     "output_type": "stream",
     "text": [
      "RMSE: 1.1714331237458953\n"
     ]
    },
    {
     "name": "stderr",
     "output_type": "stream",
     "text": [
      "[I 2024-11-06 08:12:45,754] Trial 18 finished with value: 1.6065336813785618 and parameters: {'n_estimators': 373, 'learning_rate': 0.014657850527055009, 'num_leaves': 127, 'max_depth': 9, 'min_child_samples': 80, 'subsample': 0.9563503961410795, 'colsample_bytree': 0.697315518100673, 'reg_alpha': 0.14881455128242185, 'reg_lambda': 0.579227536929476}. Best is trial 14 with value: 0.9744170517955221.\n"
     ]
    },
    {
     "name": "stdout",
     "output_type": "stream",
     "text": [
      "RMSE: 1.6065336813785618\n"
     ]
    },
    {
     "name": "stderr",
     "output_type": "stream",
     "text": [
      "[I 2024-11-06 08:12:47,706] Trial 19 finished with value: 1.0828255537481273 and parameters: {'n_estimators': 617, 'learning_rate': 0.0011737280546118547, 'num_leaves': 65, 'max_depth': 5, 'min_child_samples': 64, 'subsample': 0.5035878659468183, 'colsample_bytree': 0.8554343368720011, 'reg_alpha': 1.8579069885386892, 'reg_lambda': 0.9225275079624332}. Best is trial 14 with value: 0.9744170517955221.\n"
     ]
    },
    {
     "name": "stdout",
     "output_type": "stream",
     "text": [
      "RMSE: 1.0828255537481273\n"
     ]
    },
    {
     "name": "stderr",
     "output_type": "stream",
     "text": [
      "[I 2024-11-06 08:12:49,258] Trial 20 finished with value: 0.9297610598058602 and parameters: {'n_estimators': 239, 'learning_rate': 0.014148234211691866, 'num_leaves': 173, 'max_depth': 9, 'min_child_samples': 81, 'subsample': 0.8769839395475305, 'colsample_bytree': 0.9324897131293122, 'reg_alpha': 0.15878704962599033, 'reg_lambda': 0.00881852777033307}. Best is trial 20 with value: 0.9297610598058602.\n"
     ]
    },
    {
     "name": "stdout",
     "output_type": "stream",
     "text": [
      "RMSE: 0.9297610598058602\n"
     ]
    },
    {
     "name": "stderr",
     "output_type": "stream",
     "text": [
      "[I 2024-11-06 08:12:50,742] Trial 21 finished with value: 0.9196068704405926 and parameters: {'n_estimators': 232, 'learning_rate': 0.011071208536298534, 'num_leaves': 162, 'max_depth': 9, 'min_child_samples': 83, 'subsample': 0.8906208803719294, 'colsample_bytree': 0.923365371047143, 'reg_alpha': 0.2412671780216144, 'reg_lambda': 0.009901410781359636}. Best is trial 21 with value: 0.9196068704405926.\n"
     ]
    },
    {
     "name": "stdout",
     "output_type": "stream",
     "text": [
      "RMSE: 0.9196068704405926\n"
     ]
    },
    {
     "name": "stderr",
     "output_type": "stream",
     "text": [
      "[I 2024-11-06 08:12:52,156] Trial 22 finished with value: 0.9452619521435283 and parameters: {'n_estimators': 218, 'learning_rate': 0.008443082528896797, 'num_leaves': 169, 'max_depth': 9, 'min_child_samples': 84, 'subsample': 0.8806205798509936, 'colsample_bytree': 0.941849827787969, 'reg_alpha': 0.10819228287356239, 'reg_lambda': 0.007142578531283289}. Best is trial 21 with value: 0.9196068704405926.\n"
     ]
    },
    {
     "name": "stdout",
     "output_type": "stream",
     "text": [
      "RMSE: 0.9452619521435283\n"
     ]
    },
    {
     "name": "stderr",
     "output_type": "stream",
     "text": [
      "[I 2024-11-06 08:12:55,157] Trial 23 finished with value: 1.1688868695954295 and parameters: {'n_estimators': 212, 'learning_rate': 0.0009372240954243822, 'num_leaves': 177, 'max_depth': 9, 'min_child_samples': 85, 'subsample': 0.8778080695471518, 'colsample_bytree': 0.9470314143323143, 'reg_alpha': 0.12321247197039187, 'reg_lambda': 0.008173958701758433}. Best is trial 21 with value: 0.9196068704405926.\n"
     ]
    },
    {
     "name": "stdout",
     "output_type": "stream",
     "text": [
      "RMSE: 1.1688868695954295\n"
     ]
    },
    {
     "name": "stderr",
     "output_type": "stream",
     "text": [
      "[I 2024-11-06 08:12:56,819] Trial 24 finished with value: 1.377802039191093 and parameters: {'n_estimators': 215, 'learning_rate': 0.02534261349459383, 'num_leaves': 223, 'max_depth': 10, 'min_child_samples': 66, 'subsample': 0.7699641486942389, 'colsample_bytree': 0.8449659885509846, 'reg_alpha': 0.010025079239584112, 'reg_lambda': 0.002138610438529852}. Best is trial 21 with value: 0.9196068704405926.\n"
     ]
    },
    {
     "name": "stdout",
     "output_type": "stream",
     "text": [
      "RMSE: 1.377802039191093\n"
     ]
    },
    {
     "name": "stderr",
     "output_type": "stream",
     "text": [
      "[I 2024-11-06 08:13:00,982] Trial 25 finished with value: 1.0252129633479476 and parameters: {'n_estimators': 436, 'learning_rate': 0.0018677375270309401, 'num_leaves': 153, 'max_depth': 10, 'min_child_samples': 57, 'subsample': 0.7671436296494734, 'colsample_bytree': 0.9347453295545416, 'reg_alpha': 0.05892128967082025, 'reg_lambda': 0.011040157950261588}. Best is trial 21 with value: 0.9196068704405926.\n"
     ]
    },
    {
     "name": "stdout",
     "output_type": "stream",
     "text": [
      "RMSE: 1.0252129633479476\n"
     ]
    },
    {
     "name": "stderr",
     "output_type": "stream",
     "text": [
      "[I 2024-11-06 08:13:02,803] Trial 26 finished with value: 1.0852575585413962 and parameters: {'n_estimators': 390, 'learning_rate': 0.007192287593361498, 'num_leaves': 222, 'max_depth': 8, 'min_child_samples': 69, 'subsample': 0.8950504958091654, 'colsample_bytree': 0.604227780841222, 'reg_alpha': 0.0017502016000950286, 'reg_lambda': 0.00250162098956982}. Best is trial 21 with value: 0.9196068704405926.\n"
     ]
    },
    {
     "name": "stdout",
     "output_type": "stream",
     "text": [
      "RMSE: 1.0852575585413962\n"
     ]
    },
    {
     "name": "stderr",
     "output_type": "stream",
     "text": [
      "[I 2024-11-06 08:13:06,056] Trial 27 finished with value: 1.2042104763691135 and parameters: {'n_estimators': 211, 'learning_rate': 0.0004547817859604529, 'num_leaves': 159, 'max_depth': 9, 'min_child_samples': 85, 'subsample': 0.860483557893885, 'colsample_bytree': 0.9372017005784194, 'reg_alpha': 0.20449434270506775, 'reg_lambda': 0.0007761332123927961}. Best is trial 21 with value: 0.9196068704405926.\n"
     ]
    },
    {
     "name": "stdout",
     "output_type": "stream",
     "text": [
      "RMSE: 1.2042104763691135\n"
     ]
    },
    {
     "name": "stderr",
     "output_type": "stream",
     "text": [
      "[I 2024-11-06 08:13:10,013] Trial 28 finished with value: 3.1754453320755855 and parameters: {'n_estimators': 580, 'learning_rate': 0.026386033396223543, 'num_leaves': 199, 'max_depth': 11, 'min_child_samples': 93, 'subsample': 0.9219942629943217, 'colsample_bytree': 0.7529171849272692, 'reg_alpha': 0.07208825172641474, 'reg_lambda': 0.006213812123367721}. Best is trial 21 with value: 0.9196068704405926.\n"
     ]
    },
    {
     "name": "stdout",
     "output_type": "stream",
     "text": [
      "RMSE: 3.1754453320755855\n"
     ]
    },
    {
     "name": "stderr",
     "output_type": "stream",
     "text": [
      "[I 2024-11-06 08:13:11,712] Trial 29 finished with value: 3.1829256925421885 and parameters: {'n_estimators': 240, 'learning_rate': 0.09582447684191943, 'num_leaves': 117, 'max_depth': 10, 'min_child_samples': 54, 'subsample': 0.9522878786065692, 'colsample_bytree': 0.8620520274481352, 'reg_alpha': 0.004528116935700798, 'reg_lambda': 0.00010442280753832962}. Best is trial 21 with value: 0.9196068704405926.\n"
     ]
    },
    {
     "name": "stdout",
     "output_type": "stream",
     "text": [
      "RMSE: 3.1829256925421885\n"
     ]
    },
    {
     "name": "stderr",
     "output_type": "stream",
     "text": [
      "[I 2024-11-06 08:13:20,884] Trial 30 finished with value: 1.224764600586371 and parameters: {'n_estimators': 987, 'learning_rate': 0.006797554069590035, 'num_leaves': 147, 'max_depth': 12, 'min_child_samples': 82, 'subsample': 0.7853415986633883, 'colsample_bytree': 0.9518756306645806, 'reg_alpha': 2.10668060132178, 'reg_lambda': 0.026791812997471253}. Best is trial 21 with value: 0.9196068704405926.\n"
     ]
    },
    {
     "name": "stdout",
     "output_type": "stream",
     "text": [
      "RMSE: 1.224764600586371\n"
     ]
    },
    {
     "name": "stderr",
     "output_type": "stream",
     "text": [
      "[I 2024-11-06 08:13:23,162] Trial 31 finished with value: 0.9176797249270703 and parameters: {'n_estimators': 339, 'learning_rate': 0.010346258063114426, 'num_leaves': 109, 'max_depth': 8, 'min_child_samples': 95, 'subsample': 0.8494979649285843, 'colsample_bytree': 0.9285114217328233, 'reg_alpha': 0.31794192974480673, 'reg_lambda': 0.08648009221037224}. Best is trial 31 with value: 0.9176797249270703.\n"
     ]
    },
    {
     "name": "stdout",
     "output_type": "stream",
     "text": [
      "RMSE: 0.9176797249270703\n"
     ]
    },
    {
     "name": "stderr",
     "output_type": "stream",
     "text": [
      "[I 2024-11-06 08:13:27,052] Trial 32 finished with value: 3.0076458665229153 and parameters: {'n_estimators': 367, 'learning_rate': 0.05067969323548996, 'num_leaves': 109, 'max_depth': 8, 'min_child_samples': 96, 'subsample': 0.8478975079332183, 'colsample_bytree': 0.8143503048269148, 'reg_alpha': 0.2780129117762749, 'reg_lambda': 0.09656467169874955}. Best is trial 31 with value: 0.9176797249270703.\n"
     ]
    },
    {
     "name": "stdout",
     "output_type": "stream",
     "text": [
      "RMSE: 3.0076458665229153\n"
     ]
    },
    {
     "name": "stderr",
     "output_type": "stream",
     "text": [
      "[I 2024-11-06 08:13:30,641] Trial 33 finished with value: 1.129419070577137 and parameters: {'n_estimators': 177, 'learning_rate': 0.002170964997011903, 'num_leaves': 175, 'max_depth': 9, 'min_child_samples': 87, 'subsample': 0.8979589673054061, 'colsample_bytree': 0.8735043355840979, 'reg_alpha': 0.02438140773698169, 'reg_lambda': 0.2712028280376748}. Best is trial 31 with value: 0.9176797249270703.\n"
     ]
    },
    {
     "name": "stdout",
     "output_type": "stream",
     "text": [
      "RMSE: 1.129419070577137\n"
     ]
    },
    {
     "name": "stderr",
     "output_type": "stream",
     "text": [
      "[I 2024-11-06 08:13:32,663] Trial 34 finished with value: 0.9500788382120667 and parameters: {'n_estimators': 265, 'learning_rate': 0.007016289582379595, 'num_leaves': 138, 'max_depth': 8, 'min_child_samples': 93, 'subsample': 0.8823634791875928, 'colsample_bytree': 0.9397179645525158, 'reg_alpha': 0.08452663289725014, 'reg_lambda': 0.0482632384504007}. Best is trial 31 with value: 0.9176797249270703.\n"
     ]
    },
    {
     "name": "stdout",
     "output_type": "stream",
     "text": [
      "RMSE: 0.9500788382120667\n"
     ]
    },
    {
     "name": "stderr",
     "output_type": "stream",
     "text": [
      "[I 2024-11-06 08:13:39,661] Trial 35 finished with value: 1.486307122915647 and parameters: {'n_estimators': 360, 'learning_rate': 0.021468748777702728, 'num_leaves': 170, 'max_depth': 9, 'min_child_samples': 100, 'subsample': 0.8447410601634557, 'colsample_bytree': 0.9659922786838758, 'reg_alpha': 1.1997285859468798, 'reg_lambda': 0.01456602586394214}. Best is trial 31 with value: 0.9176797249270703.\n"
     ]
    },
    {
     "name": "stdout",
     "output_type": "stream",
     "text": [
      "RMSE: 1.486307122915647\n"
     ]
    },
    {
     "name": "stderr",
     "output_type": "stream",
     "text": [
      "[I 2024-11-06 08:13:44,862] Trial 36 finished with value: 1.1621689609768335 and parameters: {'n_estimators': 426, 'learning_rate': 0.009028762399735093, 'num_leaves': 206, 'max_depth': 10, 'min_child_samples': 69, 'subsample': 0.7230092256959705, 'colsample_bytree': 0.8254511623801839, 'reg_alpha': 0.05306598662618155, 'reg_lambda': 0.0007214804536258921}. Best is trial 31 with value: 0.9176797249270703.\n"
     ]
    },
    {
     "name": "stdout",
     "output_type": "stream",
     "text": [
      "RMSE: 1.1621689609768335\n"
     ]
    },
    {
     "name": "stderr",
     "output_type": "stream",
     "text": [
      "[I 2024-11-06 08:13:46,380] Trial 37 finished with value: 2.4509362450367 and parameters: {'n_estimators': 186, 'learning_rate': 0.054639777267041424, 'num_leaves': 110, 'max_depth': 11, 'min_child_samples': 91, 'subsample': 0.9098003495102809, 'colsample_bytree': 0.7864952577685274, 'reg_alpha': 0.0006872750923676169, 'reg_lambda': 0.0043981394496313605}. Best is trial 31 with value: 0.9176797249270703.\n"
     ]
    },
    {
     "name": "stdout",
     "output_type": "stream",
     "text": [
      "RMSE: 2.4509362450367\n"
     ]
    },
    {
     "name": "stderr",
     "output_type": "stream",
     "text": [
      "[I 2024-11-06 08:13:51,699] Trial 38 finished with value: 1.2445954660811096 and parameters: {'n_estimators': 492, 'learning_rate': 1.0317665561529524e-05, 'num_leaves': 256, 'max_depth': 9, 'min_child_samples': 82, 'subsample': 0.9449625131046093, 'colsample_bytree': 0.9240890294469056, 'reg_alpha': 0.3787486273572186, 'reg_lambda': 0.14891885466729254}. Best is trial 31 with value: 0.9176797249270703.\n"
     ]
    },
    {
     "name": "stdout",
     "output_type": "stream",
     "text": [
      "RMSE: 1.2445954660811096\n"
     ]
    },
    {
     "name": "stderr",
     "output_type": "stream",
     "text": [
      "[I 2024-11-06 08:13:58,522] Trial 39 finished with value: 1.2020431406410865 and parameters: {'n_estimators': 262, 'learning_rate': 0.0003373289796865618, 'num_leaves': 164, 'max_depth': 8, 'min_child_samples': 35, 'subsample': 0.8719744014028971, 'colsample_bytree': 0.971682418259849, 'reg_alpha': 0.013991807094135824, 'reg_lambda': 0.050718579091880774}. Best is trial 31 with value: 0.9176797249270703.\n"
     ]
    },
    {
     "name": "stdout",
     "output_type": "stream",
     "text": [
      "RMSE: 1.2020431406410865\n"
     ]
    },
    {
     "name": "stderr",
     "output_type": "stream",
     "text": [
      "[I 2024-11-06 08:14:00,945] Trial 40 finished with value: 1.1672611100464398 and parameters: {'n_estimators': 155, 'learning_rate': 0.0015260491443553246, 'num_leaves': 144, 'max_depth': 7, 'min_child_samples': 44, 'subsample': 0.7368672414266006, 'colsample_bytree': 0.751678229668666, 'reg_alpha': 0.04335450140655283, 'reg_lambda': 0.02098402917143599}. Best is trial 31 with value: 0.9176797249270703.\n"
     ]
    },
    {
     "name": "stdout",
     "output_type": "stream",
     "text": [
      "RMSE: 1.1672611100464398\n"
     ]
    },
    {
     "name": "stderr",
     "output_type": "stream",
     "text": [
      "[I 2024-11-06 08:14:07,220] Trial 41 finished with value: 0.9749663300054511 and parameters: {'n_estimators': 256, 'learning_rate': 0.005793044606454552, 'num_leaves': 137, 'max_depth': 8, 'min_child_samples': 92, 'subsample': 0.8875496120008783, 'colsample_bytree': 0.8779726730227642, 'reg_alpha': 0.10162412581392014, 'reg_lambda': 0.0451685232974104}. Best is trial 31 with value: 0.9176797249270703.\n"
     ]
    },
    {
     "name": "stdout",
     "output_type": "stream",
     "text": [
      "RMSE: 0.9749663300054511\n"
     ]
    },
    {
     "name": "stderr",
     "output_type": "stream",
     "text": [
      "[I 2024-11-06 08:14:08,962] Trial 42 finished with value: 1.002833734410464 and parameters: {'n_estimators': 272, 'learning_rate': 0.015528513961542735, 'num_leaves': 124, 'max_depth': 8, 'min_child_samples': 94, 'subsample': 0.8385440194515763, 'colsample_bytree': 0.9267486601519835, 'reg_alpha': 0.1052824329772298, 'reg_lambda': 0.11562582940057521}. Best is trial 31 with value: 0.9176797249270703.\n"
     ]
    },
    {
     "name": "stdout",
     "output_type": "stream",
     "text": [
      "RMSE: 1.002833734410464\n"
     ]
    },
    {
     "name": "stderr",
     "output_type": "stream",
     "text": [
      "[I 2024-11-06 08:14:12,562] Trial 43 finished with value: 1.0142356502100998 and parameters: {'n_estimators': 329, 'learning_rate': 0.0029413871460448227, 'num_leaves': 184, 'max_depth': 10, 'min_child_samples': 87, 'subsample': 0.9140227202645581, 'colsample_bytree': 0.9604138265645158, 'reg_alpha': 0.9220921415830401, 'reg_lambda': 0.042589992494829}. Best is trial 31 with value: 0.9176797249270703.\n"
     ]
    },
    {
     "name": "stdout",
     "output_type": "stream",
     "text": [
      "RMSE: 1.0142356502100998\n"
     ]
    },
    {
     "name": "stderr",
     "output_type": "stream",
     "text": [
      "[I 2024-11-06 08:14:14,462] Trial 44 finished with value: 1.4415976125952026 and parameters: {'n_estimators': 175, 'learning_rate': 0.03857321603886268, 'num_leaves': 140, 'max_depth': 7, 'min_child_samples': 97, 'subsample': 0.7996623601181188, 'colsample_bytree': 0.8805902089025807, 'reg_alpha': 0.3087768149479023, 'reg_lambda': 0.0038753874847611623}. Best is trial 31 with value: 0.9176797249270703.\n"
     ]
    },
    {
     "name": "stdout",
     "output_type": "stream",
     "text": [
      "RMSE: 1.4415976125952026\n"
     ]
    },
    {
     "name": "stderr",
     "output_type": "stream",
     "text": [
      "[I 2024-11-06 08:14:17,529] Trial 45 finished with value: 0.9035357606217179 and parameters: {'n_estimators': 333, 'learning_rate': 0.011193169030863637, 'num_leaves': 206, 'max_depth': 9, 'min_child_samples': 72, 'subsample': 0.8644828650714789, 'colsample_bytree': 0.9980218119344666, 'reg_alpha': 0.02959565601097966, 'reg_lambda': 0.2600450743155574}. Best is trial 45 with value: 0.9035357606217179.\n"
     ]
    },
    {
     "name": "stdout",
     "output_type": "stream",
     "text": [
      "RMSE: 0.9035357606217179\n"
     ]
    },
    {
     "name": "stderr",
     "output_type": "stream",
     "text": [
      "[I 2024-11-06 08:14:19,989] Trial 46 finished with value: 0.9038110107295179 and parameters: {'n_estimators': 343, 'learning_rate': 0.010446155902668883, 'num_leaves': 214, 'max_depth': 9, 'min_child_samples': 72, 'subsample': 0.860484643931612, 'colsample_bytree': 0.995330259376753, 'reg_alpha': 0.027835249449899856, 'reg_lambda': 0.25815695021199947}. Best is trial 45 with value: 0.9035357606217179.\n"
     ]
    },
    {
     "name": "stdout",
     "output_type": "stream",
     "text": [
      "RMSE: 0.9038110107295179\n"
     ]
    },
    {
     "name": "stderr",
     "output_type": "stream",
     "text": [
      "[I 2024-11-06 08:14:25,584] Trial 47 finished with value: 0.9119362818500998 and parameters: {'n_estimators': 524, 'learning_rate': 0.0046452736377857505, 'num_leaves': 214, 'max_depth': 11, 'min_child_samples': 61, 'subsample': 0.6792338779467288, 'colsample_bytree': 0.9893325212316735, 'reg_alpha': 0.02753315634105283, 'reg_lambda': 0.3829375541516273}. Best is trial 45 with value: 0.9035357606217179.\n"
     ]
    },
    {
     "name": "stdout",
     "output_type": "stream",
     "text": [
      "RMSE: 0.9119362818500998\n"
     ]
    },
    {
     "name": "stderr",
     "output_type": "stream",
     "text": [
      "[W 2024-11-06 08:14:30,057] Trial 48 failed with parameters: {'n_estimators': 653, 'learning_rate': 0.004526598973947049, 'num_leaves': 248, 'max_depth': 11, 'min_child_samples': 60, 'subsample': 0.6212953957315559, 'colsample_bytree': 0.9994345840660728, 'reg_alpha': 0.025781628185960467, 'reg_lambda': 0.28288092866093384} because of the following error: KeyboardInterrupt().\n",
      "Traceback (most recent call last):\n",
      "  File \"/opt/conda/lib/python3.11/site-packages/optuna/study/_optimize.py\", line 197, in _run_trial\n",
      "    value_or_values = func(trial)\n",
      "                      ^^^^^^^^^^^\n",
      "  File \"/tmp/ipykernel_53639/969787828.py\", line 24, in objective\n",
      "    _ = model.fit(X_train, y_train)\n",
      "        ^^^^^^^^^^^^^^^^^^^^^^^^^^^\n",
      "  File \"/opt/conda/lib/python3.11/site-packages/lightgbm/sklearn.py\", line 1189, in fit\n",
      "    super().fit(\n",
      "  File \"/opt/conda/lib/python3.11/site-packages/lightgbm/sklearn.py\", line 955, in fit\n",
      "    self._Booster = train(\n",
      "                    ^^^^^^\n",
      "  File \"/opt/conda/lib/python3.11/site-packages/lightgbm/engine.py\", line 307, in train\n",
      "    booster.update(fobj=fobj)\n",
      "  File \"/opt/conda/lib/python3.11/site-packages/lightgbm/basic.py\", line 4136, in update\n",
      "    _LIB.LGBM_BoosterUpdateOneIter(\n",
      "KeyboardInterrupt\n",
      "[W 2024-11-06 08:14:30,058] Trial 48 failed with value None.\n"
     ]
    },
    {
     "ename": "KeyboardInterrupt",
     "evalue": "",
     "output_type": "error",
     "traceback": [
      "\u001b[0;31m---------------------------------------------------------------------------\u001b[0m",
      "\u001b[0;31mKeyboardInterrupt\u001b[0m                         Traceback (most recent call last)",
      "Cell \u001b[0;32mIn[40], line 34\u001b[0m\n\u001b[1;32m     31\u001b[0m     \u001b[38;5;28;01mreturn\u001b[39;00m np\u001b[38;5;241m.\u001b[39mmean(scores)\n\u001b[1;32m     33\u001b[0m study \u001b[38;5;241m=\u001b[39m optuna\u001b[38;5;241m.\u001b[39mcreate_study(direction\u001b[38;5;241m=\u001b[39m\u001b[38;5;124m'\u001b[39m\u001b[38;5;124mminimize\u001b[39m\u001b[38;5;124m'\u001b[39m)\n\u001b[0;32m---> 34\u001b[0m \u001b[43mstudy\u001b[49m\u001b[38;5;241;43m.\u001b[39;49m\u001b[43moptimize\u001b[49m\u001b[43m(\u001b[49m\u001b[43mobjective\u001b[49m\u001b[43m,\u001b[49m\u001b[43m \u001b[49m\u001b[43mn_trials\u001b[49m\u001b[38;5;241;43m=\u001b[39;49m\u001b[38;5;241;43m100\u001b[39;49m\u001b[43m)\u001b[49m\n\u001b[1;32m     36\u001b[0m optuna_params \u001b[38;5;241m=\u001b[39m study\u001b[38;5;241m.\u001b[39mbest_params\n\u001b[1;32m     37\u001b[0m optuna_params[\u001b[38;5;124m'\u001b[39m\u001b[38;5;124mrandom_state\u001b[39m\u001b[38;5;124m'\u001b[39m] \u001b[38;5;241m=\u001b[39m \u001b[38;5;241m13\u001b[39m\n",
      "File \u001b[0;32m/opt/conda/lib/python3.11/site-packages/optuna/study/study.py:475\u001b[0m, in \u001b[0;36mStudy.optimize\u001b[0;34m(self, func, n_trials, timeout, n_jobs, catch, callbacks, gc_after_trial, show_progress_bar)\u001b[0m\n\u001b[1;32m    373\u001b[0m \u001b[38;5;28;01mdef\u001b[39;00m \u001b[38;5;21moptimize\u001b[39m(\n\u001b[1;32m    374\u001b[0m     \u001b[38;5;28mself\u001b[39m,\n\u001b[1;32m    375\u001b[0m     func: ObjectiveFuncType,\n\u001b[0;32m   (...)\u001b[0m\n\u001b[1;32m    382\u001b[0m     show_progress_bar: \u001b[38;5;28mbool\u001b[39m \u001b[38;5;241m=\u001b[39m \u001b[38;5;28;01mFalse\u001b[39;00m,\n\u001b[1;32m    383\u001b[0m ) \u001b[38;5;241m-\u001b[39m\u001b[38;5;241m>\u001b[39m \u001b[38;5;28;01mNone\u001b[39;00m:\n\u001b[1;32m    384\u001b[0m \u001b[38;5;250m    \u001b[39m\u001b[38;5;124;03m\"\"\"Optimize an objective function.\u001b[39;00m\n\u001b[1;32m    385\u001b[0m \n\u001b[1;32m    386\u001b[0m \u001b[38;5;124;03m    Optimization is done by choosing a suitable set of hyperparameter values from a given\u001b[39;00m\n\u001b[0;32m   (...)\u001b[0m\n\u001b[1;32m    473\u001b[0m \u001b[38;5;124;03m            If nested invocation of this method occurs.\u001b[39;00m\n\u001b[1;32m    474\u001b[0m \u001b[38;5;124;03m    \"\"\"\u001b[39;00m\n\u001b[0;32m--> 475\u001b[0m     \u001b[43m_optimize\u001b[49m\u001b[43m(\u001b[49m\n\u001b[1;32m    476\u001b[0m \u001b[43m        \u001b[49m\u001b[43mstudy\u001b[49m\u001b[38;5;241;43m=\u001b[39;49m\u001b[38;5;28;43mself\u001b[39;49m\u001b[43m,\u001b[49m\n\u001b[1;32m    477\u001b[0m \u001b[43m        \u001b[49m\u001b[43mfunc\u001b[49m\u001b[38;5;241;43m=\u001b[39;49m\u001b[43mfunc\u001b[49m\u001b[43m,\u001b[49m\n\u001b[1;32m    478\u001b[0m \u001b[43m        \u001b[49m\u001b[43mn_trials\u001b[49m\u001b[38;5;241;43m=\u001b[39;49m\u001b[43mn_trials\u001b[49m\u001b[43m,\u001b[49m\n\u001b[1;32m    479\u001b[0m \u001b[43m        \u001b[49m\u001b[43mtimeout\u001b[49m\u001b[38;5;241;43m=\u001b[39;49m\u001b[43mtimeout\u001b[49m\u001b[43m,\u001b[49m\n\u001b[1;32m    480\u001b[0m \u001b[43m        \u001b[49m\u001b[43mn_jobs\u001b[49m\u001b[38;5;241;43m=\u001b[39;49m\u001b[43mn_jobs\u001b[49m\u001b[43m,\u001b[49m\n\u001b[1;32m    481\u001b[0m \u001b[43m        \u001b[49m\u001b[43mcatch\u001b[49m\u001b[38;5;241;43m=\u001b[39;49m\u001b[38;5;28;43mtuple\u001b[39;49m\u001b[43m(\u001b[49m\u001b[43mcatch\u001b[49m\u001b[43m)\u001b[49m\u001b[43m \u001b[49m\u001b[38;5;28;43;01mif\u001b[39;49;00m\u001b[43m \u001b[49m\u001b[38;5;28;43misinstance\u001b[39;49m\u001b[43m(\u001b[49m\u001b[43mcatch\u001b[49m\u001b[43m,\u001b[49m\u001b[43m \u001b[49m\u001b[43mIterable\u001b[49m\u001b[43m)\u001b[49m\u001b[43m \u001b[49m\u001b[38;5;28;43;01melse\u001b[39;49;00m\u001b[43m \u001b[49m\u001b[43m(\u001b[49m\u001b[43mcatch\u001b[49m\u001b[43m,\u001b[49m\u001b[43m)\u001b[49m\u001b[43m,\u001b[49m\n\u001b[1;32m    482\u001b[0m \u001b[43m        \u001b[49m\u001b[43mcallbacks\u001b[49m\u001b[38;5;241;43m=\u001b[39;49m\u001b[43mcallbacks\u001b[49m\u001b[43m,\u001b[49m\n\u001b[1;32m    483\u001b[0m \u001b[43m        \u001b[49m\u001b[43mgc_after_trial\u001b[49m\u001b[38;5;241;43m=\u001b[39;49m\u001b[43mgc_after_trial\u001b[49m\u001b[43m,\u001b[49m\n\u001b[1;32m    484\u001b[0m \u001b[43m        \u001b[49m\u001b[43mshow_progress_bar\u001b[49m\u001b[38;5;241;43m=\u001b[39;49m\u001b[43mshow_progress_bar\u001b[49m\u001b[43m,\u001b[49m\n\u001b[1;32m    485\u001b[0m \u001b[43m    \u001b[49m\u001b[43m)\u001b[49m\n",
      "File \u001b[0;32m/opt/conda/lib/python3.11/site-packages/optuna/study/_optimize.py:63\u001b[0m, in \u001b[0;36m_optimize\u001b[0;34m(study, func, n_trials, timeout, n_jobs, catch, callbacks, gc_after_trial, show_progress_bar)\u001b[0m\n\u001b[1;32m     61\u001b[0m \u001b[38;5;28;01mtry\u001b[39;00m:\n\u001b[1;32m     62\u001b[0m     \u001b[38;5;28;01mif\u001b[39;00m n_jobs \u001b[38;5;241m==\u001b[39m \u001b[38;5;241m1\u001b[39m:\n\u001b[0;32m---> 63\u001b[0m         \u001b[43m_optimize_sequential\u001b[49m\u001b[43m(\u001b[49m\n\u001b[1;32m     64\u001b[0m \u001b[43m            \u001b[49m\u001b[43mstudy\u001b[49m\u001b[43m,\u001b[49m\n\u001b[1;32m     65\u001b[0m \u001b[43m            \u001b[49m\u001b[43mfunc\u001b[49m\u001b[43m,\u001b[49m\n\u001b[1;32m     66\u001b[0m \u001b[43m            \u001b[49m\u001b[43mn_trials\u001b[49m\u001b[43m,\u001b[49m\n\u001b[1;32m     67\u001b[0m \u001b[43m            \u001b[49m\u001b[43mtimeout\u001b[49m\u001b[43m,\u001b[49m\n\u001b[1;32m     68\u001b[0m \u001b[43m            \u001b[49m\u001b[43mcatch\u001b[49m\u001b[43m,\u001b[49m\n\u001b[1;32m     69\u001b[0m \u001b[43m            \u001b[49m\u001b[43mcallbacks\u001b[49m\u001b[43m,\u001b[49m\n\u001b[1;32m     70\u001b[0m \u001b[43m            \u001b[49m\u001b[43mgc_after_trial\u001b[49m\u001b[43m,\u001b[49m\n\u001b[1;32m     71\u001b[0m \u001b[43m            \u001b[49m\u001b[43mreseed_sampler_rng\u001b[49m\u001b[38;5;241;43m=\u001b[39;49m\u001b[38;5;28;43;01mFalse\u001b[39;49;00m\u001b[43m,\u001b[49m\n\u001b[1;32m     72\u001b[0m \u001b[43m            \u001b[49m\u001b[43mtime_start\u001b[49m\u001b[38;5;241;43m=\u001b[39;49m\u001b[38;5;28;43;01mNone\u001b[39;49;00m\u001b[43m,\u001b[49m\n\u001b[1;32m     73\u001b[0m \u001b[43m            \u001b[49m\u001b[43mprogress_bar\u001b[49m\u001b[38;5;241;43m=\u001b[39;49m\u001b[43mprogress_bar\u001b[49m\u001b[43m,\u001b[49m\n\u001b[1;32m     74\u001b[0m \u001b[43m        \u001b[49m\u001b[43m)\u001b[49m\n\u001b[1;32m     75\u001b[0m     \u001b[38;5;28;01melse\u001b[39;00m:\n\u001b[1;32m     76\u001b[0m         \u001b[38;5;28;01mif\u001b[39;00m n_jobs \u001b[38;5;241m==\u001b[39m \u001b[38;5;241m-\u001b[39m\u001b[38;5;241m1\u001b[39m:\n",
      "File \u001b[0;32m/opt/conda/lib/python3.11/site-packages/optuna/study/_optimize.py:160\u001b[0m, in \u001b[0;36m_optimize_sequential\u001b[0;34m(study, func, n_trials, timeout, catch, callbacks, gc_after_trial, reseed_sampler_rng, time_start, progress_bar)\u001b[0m\n\u001b[1;32m    157\u001b[0m         \u001b[38;5;28;01mbreak\u001b[39;00m\n\u001b[1;32m    159\u001b[0m \u001b[38;5;28;01mtry\u001b[39;00m:\n\u001b[0;32m--> 160\u001b[0m     frozen_trial \u001b[38;5;241m=\u001b[39m \u001b[43m_run_trial\u001b[49m\u001b[43m(\u001b[49m\u001b[43mstudy\u001b[49m\u001b[43m,\u001b[49m\u001b[43m \u001b[49m\u001b[43mfunc\u001b[49m\u001b[43m,\u001b[49m\u001b[43m \u001b[49m\u001b[43mcatch\u001b[49m\u001b[43m)\u001b[49m\n\u001b[1;32m    161\u001b[0m \u001b[38;5;28;01mfinally\u001b[39;00m:\n\u001b[1;32m    162\u001b[0m     \u001b[38;5;66;03m# The following line mitigates memory problems that can be occurred in some\u001b[39;00m\n\u001b[1;32m    163\u001b[0m     \u001b[38;5;66;03m# environments (e.g., services that use computing containers such as GitHub Actions).\u001b[39;00m\n\u001b[1;32m    164\u001b[0m     \u001b[38;5;66;03m# Please refer to the following PR for further details:\u001b[39;00m\n\u001b[1;32m    165\u001b[0m     \u001b[38;5;66;03m# https://github.com/optuna/optuna/pull/325.\u001b[39;00m\n\u001b[1;32m    166\u001b[0m     \u001b[38;5;28;01mif\u001b[39;00m gc_after_trial:\n",
      "File \u001b[0;32m/opt/conda/lib/python3.11/site-packages/optuna/study/_optimize.py:248\u001b[0m, in \u001b[0;36m_run_trial\u001b[0;34m(study, func, catch)\u001b[0m\n\u001b[1;32m    241\u001b[0m         \u001b[38;5;28;01massert\u001b[39;00m \u001b[38;5;28;01mFalse\u001b[39;00m, \u001b[38;5;124m\"\u001b[39m\u001b[38;5;124mShould not reach.\u001b[39m\u001b[38;5;124m\"\u001b[39m\n\u001b[1;32m    243\u001b[0m \u001b[38;5;28;01mif\u001b[39;00m (\n\u001b[1;32m    244\u001b[0m     frozen_trial\u001b[38;5;241m.\u001b[39mstate \u001b[38;5;241m==\u001b[39m TrialState\u001b[38;5;241m.\u001b[39mFAIL\n\u001b[1;32m    245\u001b[0m     \u001b[38;5;129;01mand\u001b[39;00m func_err \u001b[38;5;129;01mis\u001b[39;00m \u001b[38;5;129;01mnot\u001b[39;00m \u001b[38;5;28;01mNone\u001b[39;00m\n\u001b[1;32m    246\u001b[0m     \u001b[38;5;129;01mand\u001b[39;00m \u001b[38;5;129;01mnot\u001b[39;00m \u001b[38;5;28misinstance\u001b[39m(func_err, catch)\n\u001b[1;32m    247\u001b[0m ):\n\u001b[0;32m--> 248\u001b[0m     \u001b[38;5;28;01mraise\u001b[39;00m func_err\n\u001b[1;32m    249\u001b[0m \u001b[38;5;28;01mreturn\u001b[39;00m frozen_trial\n",
      "File \u001b[0;32m/opt/conda/lib/python3.11/site-packages/optuna/study/_optimize.py:197\u001b[0m, in \u001b[0;36m_run_trial\u001b[0;34m(study, func, catch)\u001b[0m\n\u001b[1;32m    195\u001b[0m \u001b[38;5;28;01mwith\u001b[39;00m get_heartbeat_thread(trial\u001b[38;5;241m.\u001b[39m_trial_id, study\u001b[38;5;241m.\u001b[39m_storage):\n\u001b[1;32m    196\u001b[0m     \u001b[38;5;28;01mtry\u001b[39;00m:\n\u001b[0;32m--> 197\u001b[0m         value_or_values \u001b[38;5;241m=\u001b[39m \u001b[43mfunc\u001b[49m\u001b[43m(\u001b[49m\u001b[43mtrial\u001b[49m\u001b[43m)\u001b[49m\n\u001b[1;32m    198\u001b[0m     \u001b[38;5;28;01mexcept\u001b[39;00m exceptions\u001b[38;5;241m.\u001b[39mTrialPruned \u001b[38;5;28;01mas\u001b[39;00m e:\n\u001b[1;32m    199\u001b[0m         \u001b[38;5;66;03m# TODO(mamu): Handle multi-objective cases.\u001b[39;00m\n\u001b[1;32m    200\u001b[0m         state \u001b[38;5;241m=\u001b[39m TrialState\u001b[38;5;241m.\u001b[39mPRUNED\n",
      "Cell \u001b[0;32mIn[40], line 24\u001b[0m, in \u001b[0;36mobjective\u001b[0;34m(trial)\u001b[0m\n\u001b[1;32m     22\u001b[0m X_train, X_valid \u001b[38;5;241m=\u001b[39m train[train_index], train[valid_index]\n\u001b[1;32m     23\u001b[0m y_train, y_valid \u001b[38;5;241m=\u001b[39m target[train_index], target[valid_index]\n\u001b[0;32m---> 24\u001b[0m _ \u001b[38;5;241m=\u001b[39m \u001b[43mmodel\u001b[49m\u001b[38;5;241;43m.\u001b[39;49m\u001b[43mfit\u001b[49m\u001b[43m(\u001b[49m\u001b[43mX_train\u001b[49m\u001b[43m,\u001b[49m\u001b[43m \u001b[49m\u001b[43my_train\u001b[49m\u001b[43m)\u001b[49m\n\u001b[1;32m     25\u001b[0m valid_preds \u001b[38;5;241m=\u001b[39m model\u001b[38;5;241m.\u001b[39mpredict(X_valid)\n\u001b[1;32m     26\u001b[0m \u001b[38;5;66;03m# 真の予測値はGHG_Direct_Emissions_13 * 予測値, shapeを合わせる\u001b[39;00m\n",
      "File \u001b[0;32m/opt/conda/lib/python3.11/site-packages/lightgbm/sklearn.py:1189\u001b[0m, in \u001b[0;36mLGBMRegressor.fit\u001b[0;34m(self, X, y, sample_weight, init_score, eval_set, eval_names, eval_sample_weight, eval_init_score, eval_metric, feature_name, categorical_feature, callbacks, init_model)\u001b[0m\n\u001b[1;32m   1172\u001b[0m \u001b[38;5;28;01mdef\u001b[39;00m \u001b[38;5;21mfit\u001b[39m(  \u001b[38;5;66;03m# type: ignore[override]\u001b[39;00m\n\u001b[1;32m   1173\u001b[0m     \u001b[38;5;28mself\u001b[39m,\n\u001b[1;32m   1174\u001b[0m     X: _LGBM_ScikitMatrixLike,\n\u001b[0;32m   (...)\u001b[0m\n\u001b[1;32m   1186\u001b[0m     init_model: Optional[Union[\u001b[38;5;28mstr\u001b[39m, Path, Booster, LGBMModel]] \u001b[38;5;241m=\u001b[39m \u001b[38;5;28;01mNone\u001b[39;00m,\n\u001b[1;32m   1187\u001b[0m ) \u001b[38;5;241m-\u001b[39m\u001b[38;5;241m>\u001b[39m \u001b[38;5;124m\"\u001b[39m\u001b[38;5;124mLGBMRegressor\u001b[39m\u001b[38;5;124m\"\u001b[39m:\n\u001b[1;32m   1188\u001b[0m \u001b[38;5;250m    \u001b[39m\u001b[38;5;124;03m\"\"\"Docstring is inherited from the LGBMModel.\"\"\"\u001b[39;00m\n\u001b[0;32m-> 1189\u001b[0m     \u001b[38;5;28;43msuper\u001b[39;49m\u001b[43m(\u001b[49m\u001b[43m)\u001b[49m\u001b[38;5;241;43m.\u001b[39;49m\u001b[43mfit\u001b[49m\u001b[43m(\u001b[49m\n\u001b[1;32m   1190\u001b[0m \u001b[43m        \u001b[49m\u001b[43mX\u001b[49m\u001b[43m,\u001b[49m\n\u001b[1;32m   1191\u001b[0m \u001b[43m        \u001b[49m\u001b[43my\u001b[49m\u001b[43m,\u001b[49m\n\u001b[1;32m   1192\u001b[0m \u001b[43m        \u001b[49m\u001b[43msample_weight\u001b[49m\u001b[38;5;241;43m=\u001b[39;49m\u001b[43msample_weight\u001b[49m\u001b[43m,\u001b[49m\n\u001b[1;32m   1193\u001b[0m \u001b[43m        \u001b[49m\u001b[43minit_score\u001b[49m\u001b[38;5;241;43m=\u001b[39;49m\u001b[43minit_score\u001b[49m\u001b[43m,\u001b[49m\n\u001b[1;32m   1194\u001b[0m \u001b[43m        \u001b[49m\u001b[43meval_set\u001b[49m\u001b[38;5;241;43m=\u001b[39;49m\u001b[43meval_set\u001b[49m\u001b[43m,\u001b[49m\n\u001b[1;32m   1195\u001b[0m \u001b[43m        \u001b[49m\u001b[43meval_names\u001b[49m\u001b[38;5;241;43m=\u001b[39;49m\u001b[43meval_names\u001b[49m\u001b[43m,\u001b[49m\n\u001b[1;32m   1196\u001b[0m \u001b[43m        \u001b[49m\u001b[43meval_sample_weight\u001b[49m\u001b[38;5;241;43m=\u001b[39;49m\u001b[43meval_sample_weight\u001b[49m\u001b[43m,\u001b[49m\n\u001b[1;32m   1197\u001b[0m \u001b[43m        \u001b[49m\u001b[43meval_init_score\u001b[49m\u001b[38;5;241;43m=\u001b[39;49m\u001b[43meval_init_score\u001b[49m\u001b[43m,\u001b[49m\n\u001b[1;32m   1198\u001b[0m \u001b[43m        \u001b[49m\u001b[43meval_metric\u001b[49m\u001b[38;5;241;43m=\u001b[39;49m\u001b[43meval_metric\u001b[49m\u001b[43m,\u001b[49m\n\u001b[1;32m   1199\u001b[0m \u001b[43m        \u001b[49m\u001b[43mfeature_name\u001b[49m\u001b[38;5;241;43m=\u001b[39;49m\u001b[43mfeature_name\u001b[49m\u001b[43m,\u001b[49m\n\u001b[1;32m   1200\u001b[0m \u001b[43m        \u001b[49m\u001b[43mcategorical_feature\u001b[49m\u001b[38;5;241;43m=\u001b[39;49m\u001b[43mcategorical_feature\u001b[49m\u001b[43m,\u001b[49m\n\u001b[1;32m   1201\u001b[0m \u001b[43m        \u001b[49m\u001b[43mcallbacks\u001b[49m\u001b[38;5;241;43m=\u001b[39;49m\u001b[43mcallbacks\u001b[49m\u001b[43m,\u001b[49m\n\u001b[1;32m   1202\u001b[0m \u001b[43m        \u001b[49m\u001b[43minit_model\u001b[49m\u001b[38;5;241;43m=\u001b[39;49m\u001b[43minit_model\u001b[49m\u001b[43m,\u001b[49m\n\u001b[1;32m   1203\u001b[0m \u001b[43m    \u001b[49m\u001b[43m)\u001b[49m\n\u001b[1;32m   1204\u001b[0m     \u001b[38;5;28;01mreturn\u001b[39;00m \u001b[38;5;28mself\u001b[39m\n",
      "File \u001b[0;32m/opt/conda/lib/python3.11/site-packages/lightgbm/sklearn.py:955\u001b[0m, in \u001b[0;36mLGBMModel.fit\u001b[0;34m(self, X, y, sample_weight, init_score, group, eval_set, eval_names, eval_sample_weight, eval_class_weight, eval_init_score, eval_group, eval_metric, feature_name, categorical_feature, callbacks, init_model)\u001b[0m\n\u001b[1;32m    952\u001b[0m evals_result: _EvalResultDict \u001b[38;5;241m=\u001b[39m {}\n\u001b[1;32m    953\u001b[0m callbacks\u001b[38;5;241m.\u001b[39mappend(record_evaluation(evals_result))\n\u001b[0;32m--> 955\u001b[0m \u001b[38;5;28mself\u001b[39m\u001b[38;5;241m.\u001b[39m_Booster \u001b[38;5;241m=\u001b[39m \u001b[43mtrain\u001b[49m\u001b[43m(\u001b[49m\n\u001b[1;32m    956\u001b[0m \u001b[43m    \u001b[49m\u001b[43mparams\u001b[49m\u001b[38;5;241;43m=\u001b[39;49m\u001b[43mparams\u001b[49m\u001b[43m,\u001b[49m\n\u001b[1;32m    957\u001b[0m \u001b[43m    \u001b[49m\u001b[43mtrain_set\u001b[49m\u001b[38;5;241;43m=\u001b[39;49m\u001b[43mtrain_set\u001b[49m\u001b[43m,\u001b[49m\n\u001b[1;32m    958\u001b[0m \u001b[43m    \u001b[49m\u001b[43mnum_boost_round\u001b[49m\u001b[38;5;241;43m=\u001b[39;49m\u001b[38;5;28;43mself\u001b[39;49m\u001b[38;5;241;43m.\u001b[39;49m\u001b[43mn_estimators\u001b[49m\u001b[43m,\u001b[49m\n\u001b[1;32m    959\u001b[0m \u001b[43m    \u001b[49m\u001b[43mvalid_sets\u001b[49m\u001b[38;5;241;43m=\u001b[39;49m\u001b[43mvalid_sets\u001b[49m\u001b[43m,\u001b[49m\n\u001b[1;32m    960\u001b[0m \u001b[43m    \u001b[49m\u001b[43mvalid_names\u001b[49m\u001b[38;5;241;43m=\u001b[39;49m\u001b[43meval_names\u001b[49m\u001b[43m,\u001b[49m\n\u001b[1;32m    961\u001b[0m \u001b[43m    \u001b[49m\u001b[43mfeval\u001b[49m\u001b[38;5;241;43m=\u001b[39;49m\u001b[43meval_metrics_callable\u001b[49m\u001b[43m,\u001b[49m\u001b[43m  \u001b[49m\u001b[38;5;66;43;03m# type: ignore[arg-type]\u001b[39;49;00m\n\u001b[1;32m    962\u001b[0m \u001b[43m    \u001b[49m\u001b[43minit_model\u001b[49m\u001b[38;5;241;43m=\u001b[39;49m\u001b[43minit_model\u001b[49m\u001b[43m,\u001b[49m\n\u001b[1;32m    963\u001b[0m \u001b[43m    \u001b[49m\u001b[43mcallbacks\u001b[49m\u001b[38;5;241;43m=\u001b[39;49m\u001b[43mcallbacks\u001b[49m\u001b[43m,\u001b[49m\n\u001b[1;32m    964\u001b[0m \u001b[43m\u001b[49m\u001b[43m)\u001b[49m\n\u001b[1;32m    966\u001b[0m \u001b[38;5;28mself\u001b[39m\u001b[38;5;241m.\u001b[39m_evals_result \u001b[38;5;241m=\u001b[39m evals_result\n\u001b[1;32m    967\u001b[0m \u001b[38;5;28mself\u001b[39m\u001b[38;5;241m.\u001b[39m_best_iteration \u001b[38;5;241m=\u001b[39m \u001b[38;5;28mself\u001b[39m\u001b[38;5;241m.\u001b[39m_Booster\u001b[38;5;241m.\u001b[39mbest_iteration\n",
      "File \u001b[0;32m/opt/conda/lib/python3.11/site-packages/lightgbm/engine.py:307\u001b[0m, in \u001b[0;36mtrain\u001b[0;34m(params, train_set, num_boost_round, valid_sets, valid_names, feval, init_model, feature_name, categorical_feature, keep_training_booster, callbacks)\u001b[0m\n\u001b[1;32m    295\u001b[0m \u001b[38;5;28;01mfor\u001b[39;00m cb \u001b[38;5;129;01min\u001b[39;00m callbacks_before_iter:\n\u001b[1;32m    296\u001b[0m     cb(\n\u001b[1;32m    297\u001b[0m         callback\u001b[38;5;241m.\u001b[39mCallbackEnv(\n\u001b[1;32m    298\u001b[0m             model\u001b[38;5;241m=\u001b[39mbooster,\n\u001b[0;32m   (...)\u001b[0m\n\u001b[1;32m    304\u001b[0m         )\n\u001b[1;32m    305\u001b[0m     )\n\u001b[0;32m--> 307\u001b[0m \u001b[43mbooster\u001b[49m\u001b[38;5;241;43m.\u001b[39;49m\u001b[43mupdate\u001b[49m\u001b[43m(\u001b[49m\u001b[43mfobj\u001b[49m\u001b[38;5;241;43m=\u001b[39;49m\u001b[43mfobj\u001b[49m\u001b[43m)\u001b[49m\n\u001b[1;32m    309\u001b[0m evaluation_result_list: List[_LGBM_BoosterEvalMethodResultType] \u001b[38;5;241m=\u001b[39m []\n\u001b[1;32m    310\u001b[0m \u001b[38;5;66;03m# check evaluation result.\u001b[39;00m\n",
      "File \u001b[0;32m/opt/conda/lib/python3.11/site-packages/lightgbm/basic.py:4136\u001b[0m, in \u001b[0;36mBooster.update\u001b[0;34m(self, train_set, fobj)\u001b[0m\n\u001b[1;32m   4133\u001b[0m \u001b[38;5;28;01mif\u001b[39;00m \u001b[38;5;28mself\u001b[39m\u001b[38;5;241m.\u001b[39m__set_objective_to_none:\n\u001b[1;32m   4134\u001b[0m     \u001b[38;5;28;01mraise\u001b[39;00m LightGBMError(\u001b[38;5;124m\"\u001b[39m\u001b[38;5;124mCannot update due to null objective function.\u001b[39m\u001b[38;5;124m\"\u001b[39m)\n\u001b[1;32m   4135\u001b[0m _safe_call(\n\u001b[0;32m-> 4136\u001b[0m     \u001b[43m_LIB\u001b[49m\u001b[38;5;241;43m.\u001b[39;49m\u001b[43mLGBM_BoosterUpdateOneIter\u001b[49m\u001b[43m(\u001b[49m\n\u001b[1;32m   4137\u001b[0m \u001b[43m        \u001b[49m\u001b[38;5;28;43mself\u001b[39;49m\u001b[38;5;241;43m.\u001b[39;49m\u001b[43m_handle\u001b[49m\u001b[43m,\u001b[49m\n\u001b[1;32m   4138\u001b[0m \u001b[43m        \u001b[49m\u001b[43mctypes\u001b[49m\u001b[38;5;241;43m.\u001b[39;49m\u001b[43mbyref\u001b[49m\u001b[43m(\u001b[49m\u001b[43mis_finished\u001b[49m\u001b[43m)\u001b[49m\u001b[43m,\u001b[49m\n\u001b[1;32m   4139\u001b[0m \u001b[43m    \u001b[49m\u001b[43m)\u001b[49m\n\u001b[1;32m   4140\u001b[0m )\n\u001b[1;32m   4141\u001b[0m \u001b[38;5;28mself\u001b[39m\u001b[38;5;241m.\u001b[39m__is_predicted_cur_iter \u001b[38;5;241m=\u001b[39m [\u001b[38;5;28;01mFalse\u001b[39;00m \u001b[38;5;28;01mfor\u001b[39;00m _ \u001b[38;5;129;01min\u001b[39;00m \u001b[38;5;28mrange\u001b[39m(\u001b[38;5;28mself\u001b[39m\u001b[38;5;241m.\u001b[39m__num_dataset)]\n\u001b[1;32m   4142\u001b[0m \u001b[38;5;28;01mreturn\u001b[39;00m is_finished\u001b[38;5;241m.\u001b[39mvalue \u001b[38;5;241m==\u001b[39m \u001b[38;5;241m1\u001b[39m\n",
      "\u001b[0;31mKeyboardInterrupt\u001b[0m: "
     ]
    }
   ],
   "source": [
    "import optuna\n",
    "from sklearn.model_selection import train_test_split\n",
    "\n",
    "def objective(trial):\n",
    "    params = {\n",
    "        'n_estimators': trial.suggest_int('n_estimators', 100, 1000),\n",
    "        'learning_rate': trial.suggest_loguniform('learning_rate', 1e-5, 1e-1),\n",
    "        'num_leaves': trial.suggest_int('num_leaves', 20, 300),\n",
    "        'max_depth': trial.suggest_int('max_depth', 3, 12),\n",
    "        'min_child_samples': trial.suggest_int('min_child_samples', 5, 100),\n",
    "        'subsample': trial.suggest_uniform('subsample', 0.5, 1.0),\n",
    "        'colsample_bytree': trial.suggest_uniform('colsample_bytree', 0.5, 1.0),\n",
    "        'reg_alpha': trial.suggest_loguniform('reg_alpha', 1e-4, 1e1),\n",
    "        'reg_lambda': trial.suggest_loguniform('reg_lambda', 1e-4, 1e1)\n",
    "    }\n",
    "    \n",
    "    model = LGBMRegressor(**params)\n",
    "    kf = KFold(n_splits=5, shuffle=True, random_state=13)\n",
    "    scores = []\n",
    "    \n",
    "    for train_index, valid_index in kf.split(train, target):\n",
    "        X_train, X_valid = train[train_index], train[valid_index]\n",
    "        y_train, y_valid = target[train_index], target[valid_index]\n",
    "        _ = model.fit(X_train, y_train)\n",
    "        valid_preds = model.predict(X_valid)\n",
    "        # 真の予測値はGHG_Direct_Emissions_13 * 予測値, shapeを合わせる\n",
    "        score = root_mean_squared_log_error(y_valid.flatten() * train_df.loc[valid_index, 'GHG_Direct_Emissions_13_in_metric_tons'].values, valid_preds.flatten() * train_df.loc[valid_index, 'GHG_Direct_Emissions_13_in_metric_tons'].values)\n",
    "        scores.append(score)\n",
    "        \n",
    "    print(f'RMSE: {np.mean(scores)}')\n",
    "    return np.mean(scores)\n",
    "\n",
    "study = optuna.create_study(direction='minimize')\n",
    "study.optimize(objective, n_trials=100)\n",
    "\n",
    "optuna_params = study.best_params\n",
    "optuna_params['random_state'] = 13\n",
    "optuna_params['verbose'] = -1\n",
    "\n",
    "    "
   ]
  },
  {
   "cell_type": "code",
   "execution_count": 33,
   "metadata": {},
   "outputs": [],
   "source": [
    "def get_models_trained(train,test,target, num_folds):\n",
    "    kf               = KFold(n_splits=num_folds, shuffle=True, random_state=13)\n",
    "\n",
    "    oof_predictions  = np.zeros(len(train))\n",
    "    test_predictions = np.zeros(len(test))\n",
    "\n",
    "\n",
    "    for fold, (train_index, valid_index) in enumerate(kf.split(train,target)):\n",
    "\n",
    "        X_train, X_valid             = train[train_index], train[valid_index]\n",
    "        y_train, y_valid             = target[train_index], target[valid_index]\n",
    "\n",
    "        params                       = optuna_params\n",
    "        model1                       = LGBMRegressor(**params)\n",
    "\n",
    "        params                       = { 'random_state':13,}\n",
    "        model2                       = HistGradientBoostingRegressor(**params)\n",
    "\n",
    "        _                             = model1.fit(X_train,np.log1p(y_train))        \n",
    "        valid_preds1                  = np.expm1(model1.predict(X_valid))\n",
    "        rmsle1                        = root_mean_squared_log_error(y_valid, valid_preds1)\n",
    "        print(f\"Fold {fold+1} RMSLE for model1 = {rmsle1}\")\n",
    "\n",
    "        _                             = model2.fit(X_train,np.log1p(y_train))        \n",
    "        valid_preds2                  = np.expm1(model2.predict(X_valid))\n",
    "        rmsle2                        = root_mean_squared_log_error(y_valid, valid_preds2)\n",
    "        print(f\"Fold {fold+1} RMSLE for model2 = {rmsle2}\")\n",
    "\n",
    "\n",
    "        if rmsle1>=rmsle2:\n",
    "            valid_preds = valid_preds2.copy()\n",
    "            test_preds  = model2.predict(test)\n",
    "        else:\n",
    "            valid_preds = valid_preds1.copy()\n",
    "            test_preds  = model1.predict(test)\n",
    "        \n",
    "    \n",
    "        oof_predictions[valid_index]  = valid_preds\n",
    "        test_predictions += (test_preds) / kf.n_splits\n",
    "        \n",
    "        gc.collect()\n",
    "\n",
    "        print('---------------\\n')\n",
    "\n",
    "    RMSLE = root_mean_squared_log_error(target, oof_predictions)\n",
    "    print(f\"OOF RMSLE = {RMSLE}\")\n",
    "\n",
    "    return oof_predictions,np.expm1(test_predictions), model1"
   ]
  },
  {
   "cell_type": "code",
   "execution_count": 34,
   "metadata": {},
   "outputs": [
    {
     "ename": "ValueError",
     "evalue": "Input y contains NaN.",
     "output_type": "error",
     "traceback": [
      "\u001b[0;31m---------------------------------------------------------------------------\u001b[0m",
      "\u001b[0;31mValueError\u001b[0m                                Traceback (most recent call last)",
      "Cell \u001b[0;32mIn[34], line 1\u001b[0m\n\u001b[0;32m----> 1\u001b[0m oof_predictions,test_predictions, model \u001b[38;5;241m=\u001b[39m \u001b[43mget_models_trained\u001b[49m\u001b[43m(\u001b[49m\u001b[43mtrain\u001b[49m\u001b[43m,\u001b[49m\u001b[43mtest\u001b[49m\u001b[43m,\u001b[49m\u001b[43mtarget\u001b[49m\u001b[43m,\u001b[49m\u001b[38;5;241;43m15\u001b[39;49m\u001b[43m)\u001b[49m\n",
      "Cell \u001b[0;32mIn[33], line 19\u001b[0m, in \u001b[0;36mget_models_trained\u001b[0;34m(train, test, target, num_folds)\u001b[0m\n\u001b[1;32m     16\u001b[0m params                       \u001b[38;5;241m=\u001b[39m { \u001b[38;5;124m'\u001b[39m\u001b[38;5;124mrandom_state\u001b[39m\u001b[38;5;124m'\u001b[39m:\u001b[38;5;241m13\u001b[39m,}\n\u001b[1;32m     17\u001b[0m model2                       \u001b[38;5;241m=\u001b[39m HistGradientBoostingRegressor(\u001b[38;5;241m*\u001b[39m\u001b[38;5;241m*\u001b[39mparams)\n\u001b[0;32m---> 19\u001b[0m _                             \u001b[38;5;241m=\u001b[39m \u001b[43mmodel1\u001b[49m\u001b[38;5;241;43m.\u001b[39;49m\u001b[43mfit\u001b[49m\u001b[43m(\u001b[49m\u001b[43mX_train\u001b[49m\u001b[43m,\u001b[49m\u001b[43mnp\u001b[49m\u001b[38;5;241;43m.\u001b[39;49m\u001b[43mlog1p\u001b[49m\u001b[43m(\u001b[49m\u001b[43my_train\u001b[49m\u001b[43m)\u001b[49m\u001b[43m)\u001b[49m        \n\u001b[1;32m     20\u001b[0m valid_preds1                  \u001b[38;5;241m=\u001b[39m np\u001b[38;5;241m.\u001b[39mexpm1(model1\u001b[38;5;241m.\u001b[39mpredict(X_valid))\n\u001b[1;32m     21\u001b[0m rmsle1                        \u001b[38;5;241m=\u001b[39m root_mean_squared_log_error(y_valid, valid_preds1)\n",
      "File \u001b[0;32m/opt/conda/lib/python3.11/site-packages/lightgbm/sklearn.py:1189\u001b[0m, in \u001b[0;36mLGBMRegressor.fit\u001b[0;34m(self, X, y, sample_weight, init_score, eval_set, eval_names, eval_sample_weight, eval_init_score, eval_metric, feature_name, categorical_feature, callbacks, init_model)\u001b[0m\n\u001b[1;32m   1172\u001b[0m \u001b[38;5;28;01mdef\u001b[39;00m \u001b[38;5;21mfit\u001b[39m(  \u001b[38;5;66;03m# type: ignore[override]\u001b[39;00m\n\u001b[1;32m   1173\u001b[0m     \u001b[38;5;28mself\u001b[39m,\n\u001b[1;32m   1174\u001b[0m     X: _LGBM_ScikitMatrixLike,\n\u001b[0;32m   (...)\u001b[0m\n\u001b[1;32m   1186\u001b[0m     init_model: Optional[Union[\u001b[38;5;28mstr\u001b[39m, Path, Booster, LGBMModel]] \u001b[38;5;241m=\u001b[39m \u001b[38;5;28;01mNone\u001b[39;00m,\n\u001b[1;32m   1187\u001b[0m ) \u001b[38;5;241m-\u001b[39m\u001b[38;5;241m>\u001b[39m \u001b[38;5;124m\"\u001b[39m\u001b[38;5;124mLGBMRegressor\u001b[39m\u001b[38;5;124m\"\u001b[39m:\n\u001b[1;32m   1188\u001b[0m \u001b[38;5;250m    \u001b[39m\u001b[38;5;124;03m\"\"\"Docstring is inherited from the LGBMModel.\"\"\"\u001b[39;00m\n\u001b[0;32m-> 1189\u001b[0m     \u001b[38;5;28;43msuper\u001b[39;49m\u001b[43m(\u001b[49m\u001b[43m)\u001b[49m\u001b[38;5;241;43m.\u001b[39;49m\u001b[43mfit\u001b[49m\u001b[43m(\u001b[49m\n\u001b[1;32m   1190\u001b[0m \u001b[43m        \u001b[49m\u001b[43mX\u001b[49m\u001b[43m,\u001b[49m\n\u001b[1;32m   1191\u001b[0m \u001b[43m        \u001b[49m\u001b[43my\u001b[49m\u001b[43m,\u001b[49m\n\u001b[1;32m   1192\u001b[0m \u001b[43m        \u001b[49m\u001b[43msample_weight\u001b[49m\u001b[38;5;241;43m=\u001b[39;49m\u001b[43msample_weight\u001b[49m\u001b[43m,\u001b[49m\n\u001b[1;32m   1193\u001b[0m \u001b[43m        \u001b[49m\u001b[43minit_score\u001b[49m\u001b[38;5;241;43m=\u001b[39;49m\u001b[43minit_score\u001b[49m\u001b[43m,\u001b[49m\n\u001b[1;32m   1194\u001b[0m \u001b[43m        \u001b[49m\u001b[43meval_set\u001b[49m\u001b[38;5;241;43m=\u001b[39;49m\u001b[43meval_set\u001b[49m\u001b[43m,\u001b[49m\n\u001b[1;32m   1195\u001b[0m \u001b[43m        \u001b[49m\u001b[43meval_names\u001b[49m\u001b[38;5;241;43m=\u001b[39;49m\u001b[43meval_names\u001b[49m\u001b[43m,\u001b[49m\n\u001b[1;32m   1196\u001b[0m \u001b[43m        \u001b[49m\u001b[43meval_sample_weight\u001b[49m\u001b[38;5;241;43m=\u001b[39;49m\u001b[43meval_sample_weight\u001b[49m\u001b[43m,\u001b[49m\n\u001b[1;32m   1197\u001b[0m \u001b[43m        \u001b[49m\u001b[43meval_init_score\u001b[49m\u001b[38;5;241;43m=\u001b[39;49m\u001b[43meval_init_score\u001b[49m\u001b[43m,\u001b[49m\n\u001b[1;32m   1198\u001b[0m \u001b[43m        \u001b[49m\u001b[43meval_metric\u001b[49m\u001b[38;5;241;43m=\u001b[39;49m\u001b[43meval_metric\u001b[49m\u001b[43m,\u001b[49m\n\u001b[1;32m   1199\u001b[0m \u001b[43m        \u001b[49m\u001b[43mfeature_name\u001b[49m\u001b[38;5;241;43m=\u001b[39;49m\u001b[43mfeature_name\u001b[49m\u001b[43m,\u001b[49m\n\u001b[1;32m   1200\u001b[0m \u001b[43m        \u001b[49m\u001b[43mcategorical_feature\u001b[49m\u001b[38;5;241;43m=\u001b[39;49m\u001b[43mcategorical_feature\u001b[49m\u001b[43m,\u001b[49m\n\u001b[1;32m   1201\u001b[0m \u001b[43m        \u001b[49m\u001b[43mcallbacks\u001b[49m\u001b[38;5;241;43m=\u001b[39;49m\u001b[43mcallbacks\u001b[49m\u001b[43m,\u001b[49m\n\u001b[1;32m   1202\u001b[0m \u001b[43m        \u001b[49m\u001b[43minit_model\u001b[49m\u001b[38;5;241;43m=\u001b[39;49m\u001b[43minit_model\u001b[49m\u001b[43m,\u001b[49m\n\u001b[1;32m   1203\u001b[0m \u001b[43m    \u001b[49m\u001b[43m)\u001b[49m\n\u001b[1;32m   1204\u001b[0m     \u001b[38;5;28;01mreturn\u001b[39;00m \u001b[38;5;28mself\u001b[39m\n",
      "File \u001b[0;32m/opt/conda/lib/python3.11/site-packages/lightgbm/sklearn.py:865\u001b[0m, in \u001b[0;36mLGBMModel.fit\u001b[0;34m(self, X, y, sample_weight, init_score, group, eval_set, eval_names, eval_sample_weight, eval_class_weight, eval_init_score, eval_group, eval_metric, feature_name, categorical_feature, callbacks, init_model)\u001b[0m\n\u001b[1;32m    862\u001b[0m params[\u001b[38;5;124m\"\u001b[39m\u001b[38;5;124mmetric\u001b[39m\u001b[38;5;124m\"\u001b[39m] \u001b[38;5;241m=\u001b[39m [metric \u001b[38;5;28;01mfor\u001b[39;00m metric \u001b[38;5;129;01min\u001b[39;00m params[\u001b[38;5;124m\"\u001b[39m\u001b[38;5;124mmetric\u001b[39m\u001b[38;5;124m\"\u001b[39m] \u001b[38;5;28;01mif\u001b[39;00m metric \u001b[38;5;129;01mis\u001b[39;00m \u001b[38;5;129;01mnot\u001b[39;00m \u001b[38;5;28;01mNone\u001b[39;00m]\n\u001b[1;32m    864\u001b[0m \u001b[38;5;28;01mif\u001b[39;00m \u001b[38;5;129;01mnot\u001b[39;00m \u001b[38;5;28misinstance\u001b[39m(X, (pd_DataFrame, dt_DataTable)):\n\u001b[0;32m--> 865\u001b[0m     _X, _y \u001b[38;5;241m=\u001b[39m \u001b[43m_LGBMCheckXY\u001b[49m\u001b[43m(\u001b[49m\u001b[43mX\u001b[49m\u001b[43m,\u001b[49m\u001b[43m \u001b[49m\u001b[43my\u001b[49m\u001b[43m,\u001b[49m\u001b[43m \u001b[49m\u001b[43maccept_sparse\u001b[49m\u001b[38;5;241;43m=\u001b[39;49m\u001b[38;5;28;43;01mTrue\u001b[39;49;00m\u001b[43m,\u001b[49m\u001b[43m \u001b[49m\u001b[43mforce_all_finite\u001b[49m\u001b[38;5;241;43m=\u001b[39;49m\u001b[38;5;28;43;01mFalse\u001b[39;49;00m\u001b[43m,\u001b[49m\u001b[43m \u001b[49m\u001b[43mensure_min_samples\u001b[49m\u001b[38;5;241;43m=\u001b[39;49m\u001b[38;5;241;43m2\u001b[39;49m\u001b[43m)\u001b[49m\n\u001b[1;32m    866\u001b[0m     \u001b[38;5;28;01mif\u001b[39;00m sample_weight \u001b[38;5;129;01mis\u001b[39;00m \u001b[38;5;129;01mnot\u001b[39;00m \u001b[38;5;28;01mNone\u001b[39;00m:\n\u001b[1;32m    867\u001b[0m         sample_weight \u001b[38;5;241m=\u001b[39m _LGBMCheckSampleWeight(sample_weight, _X)\n",
      "File \u001b[0;32m/opt/conda/lib/python3.11/site-packages/sklearn/utils/validation.py:1162\u001b[0m, in \u001b[0;36mcheck_X_y\u001b[0;34m(X, y, accept_sparse, accept_large_sparse, dtype, order, copy, force_all_finite, ensure_2d, allow_nd, multi_output, ensure_min_samples, ensure_min_features, y_numeric, estimator)\u001b[0m\n\u001b[1;32m   1142\u001b[0m     \u001b[38;5;28;01mraise\u001b[39;00m \u001b[38;5;167;01mValueError\u001b[39;00m(\n\u001b[1;32m   1143\u001b[0m         \u001b[38;5;124mf\u001b[39m\u001b[38;5;124m\"\u001b[39m\u001b[38;5;132;01m{\u001b[39;00mestimator_name\u001b[38;5;132;01m}\u001b[39;00m\u001b[38;5;124m requires y to be passed, but the target y is None\u001b[39m\u001b[38;5;124m\"\u001b[39m\n\u001b[1;32m   1144\u001b[0m     )\n\u001b[1;32m   1146\u001b[0m X \u001b[38;5;241m=\u001b[39m check_array(\n\u001b[1;32m   1147\u001b[0m     X,\n\u001b[1;32m   1148\u001b[0m     accept_sparse\u001b[38;5;241m=\u001b[39maccept_sparse,\n\u001b[0;32m   (...)\u001b[0m\n\u001b[1;32m   1159\u001b[0m     input_name\u001b[38;5;241m=\u001b[39m\u001b[38;5;124m\"\u001b[39m\u001b[38;5;124mX\u001b[39m\u001b[38;5;124m\"\u001b[39m,\n\u001b[1;32m   1160\u001b[0m )\n\u001b[0;32m-> 1162\u001b[0m y \u001b[38;5;241m=\u001b[39m \u001b[43m_check_y\u001b[49m\u001b[43m(\u001b[49m\u001b[43my\u001b[49m\u001b[43m,\u001b[49m\u001b[43m \u001b[49m\u001b[43mmulti_output\u001b[49m\u001b[38;5;241;43m=\u001b[39;49m\u001b[43mmulti_output\u001b[49m\u001b[43m,\u001b[49m\u001b[43m \u001b[49m\u001b[43my_numeric\u001b[49m\u001b[38;5;241;43m=\u001b[39;49m\u001b[43my_numeric\u001b[49m\u001b[43m,\u001b[49m\u001b[43m \u001b[49m\u001b[43mestimator\u001b[49m\u001b[38;5;241;43m=\u001b[39;49m\u001b[43mestimator\u001b[49m\u001b[43m)\u001b[49m\n\u001b[1;32m   1164\u001b[0m check_consistent_length(X, y)\n\u001b[1;32m   1166\u001b[0m \u001b[38;5;28;01mreturn\u001b[39;00m X, y\n",
      "File \u001b[0;32m/opt/conda/lib/python3.11/site-packages/sklearn/utils/validation.py:1184\u001b[0m, in \u001b[0;36m_check_y\u001b[0;34m(y, multi_output, y_numeric, estimator)\u001b[0m\n\u001b[1;32m   1182\u001b[0m     estimator_name \u001b[38;5;241m=\u001b[39m _check_estimator_name(estimator)\n\u001b[1;32m   1183\u001b[0m     y \u001b[38;5;241m=\u001b[39m column_or_1d(y, warn\u001b[38;5;241m=\u001b[39m\u001b[38;5;28;01mTrue\u001b[39;00m)\n\u001b[0;32m-> 1184\u001b[0m     \u001b[43m_assert_all_finite\u001b[49m\u001b[43m(\u001b[49m\u001b[43my\u001b[49m\u001b[43m,\u001b[49m\u001b[43m \u001b[49m\u001b[43minput_name\u001b[49m\u001b[38;5;241;43m=\u001b[39;49m\u001b[38;5;124;43m\"\u001b[39;49m\u001b[38;5;124;43my\u001b[39;49m\u001b[38;5;124;43m\"\u001b[39;49m\u001b[43m,\u001b[49m\u001b[43m \u001b[49m\u001b[43mestimator_name\u001b[49m\u001b[38;5;241;43m=\u001b[39;49m\u001b[43mestimator_name\u001b[49m\u001b[43m)\u001b[49m\n\u001b[1;32m   1185\u001b[0m     _ensure_no_complex_data(y)\n\u001b[1;32m   1186\u001b[0m \u001b[38;5;28;01mif\u001b[39;00m y_numeric \u001b[38;5;129;01mand\u001b[39;00m y\u001b[38;5;241m.\u001b[39mdtype\u001b[38;5;241m.\u001b[39mkind \u001b[38;5;241m==\u001b[39m \u001b[38;5;124m\"\u001b[39m\u001b[38;5;124mO\u001b[39m\u001b[38;5;124m\"\u001b[39m:\n",
      "File \u001b[0;32m/opt/conda/lib/python3.11/site-packages/sklearn/utils/validation.py:122\u001b[0m, in \u001b[0;36m_assert_all_finite\u001b[0;34m(X, allow_nan, msg_dtype, estimator_name, input_name)\u001b[0m\n\u001b[1;32m    119\u001b[0m \u001b[38;5;28;01mif\u001b[39;00m first_pass_isfinite:\n\u001b[1;32m    120\u001b[0m     \u001b[38;5;28;01mreturn\u001b[39;00m\n\u001b[0;32m--> 122\u001b[0m \u001b[43m_assert_all_finite_element_wise\u001b[49m\u001b[43m(\u001b[49m\n\u001b[1;32m    123\u001b[0m \u001b[43m    \u001b[49m\u001b[43mX\u001b[49m\u001b[43m,\u001b[49m\n\u001b[1;32m    124\u001b[0m \u001b[43m    \u001b[49m\u001b[43mxp\u001b[49m\u001b[38;5;241;43m=\u001b[39;49m\u001b[43mxp\u001b[49m\u001b[43m,\u001b[49m\n\u001b[1;32m    125\u001b[0m \u001b[43m    \u001b[49m\u001b[43mallow_nan\u001b[49m\u001b[38;5;241;43m=\u001b[39;49m\u001b[43mallow_nan\u001b[49m\u001b[43m,\u001b[49m\n\u001b[1;32m    126\u001b[0m \u001b[43m    \u001b[49m\u001b[43mmsg_dtype\u001b[49m\u001b[38;5;241;43m=\u001b[39;49m\u001b[43mmsg_dtype\u001b[49m\u001b[43m,\u001b[49m\n\u001b[1;32m    127\u001b[0m \u001b[43m    \u001b[49m\u001b[43mestimator_name\u001b[49m\u001b[38;5;241;43m=\u001b[39;49m\u001b[43mestimator_name\u001b[49m\u001b[43m,\u001b[49m\n\u001b[1;32m    128\u001b[0m \u001b[43m    \u001b[49m\u001b[43minput_name\u001b[49m\u001b[38;5;241;43m=\u001b[39;49m\u001b[43minput_name\u001b[49m\u001b[43m,\u001b[49m\n\u001b[1;32m    129\u001b[0m \u001b[43m\u001b[49m\u001b[43m)\u001b[49m\n",
      "File \u001b[0;32m/opt/conda/lib/python3.11/site-packages/sklearn/utils/validation.py:171\u001b[0m, in \u001b[0;36m_assert_all_finite_element_wise\u001b[0;34m(X, xp, allow_nan, msg_dtype, estimator_name, input_name)\u001b[0m\n\u001b[1;32m    154\u001b[0m \u001b[38;5;28;01mif\u001b[39;00m estimator_name \u001b[38;5;129;01mand\u001b[39;00m input_name \u001b[38;5;241m==\u001b[39m \u001b[38;5;124m\"\u001b[39m\u001b[38;5;124mX\u001b[39m\u001b[38;5;124m\"\u001b[39m \u001b[38;5;129;01mand\u001b[39;00m has_nan_error:\n\u001b[1;32m    155\u001b[0m     \u001b[38;5;66;03m# Improve the error message on how to handle missing values in\u001b[39;00m\n\u001b[1;32m    156\u001b[0m     \u001b[38;5;66;03m# scikit-learn.\u001b[39;00m\n\u001b[1;32m    157\u001b[0m     msg_err \u001b[38;5;241m+\u001b[39m\u001b[38;5;241m=\u001b[39m (\n\u001b[1;32m    158\u001b[0m         \u001b[38;5;124mf\u001b[39m\u001b[38;5;124m\"\u001b[39m\u001b[38;5;130;01m\\n\u001b[39;00m\u001b[38;5;132;01m{\u001b[39;00mestimator_name\u001b[38;5;132;01m}\u001b[39;00m\u001b[38;5;124m does not accept missing values\u001b[39m\u001b[38;5;124m\"\u001b[39m\n\u001b[1;32m    159\u001b[0m         \u001b[38;5;124m\"\u001b[39m\u001b[38;5;124m encoded as NaN natively. For supervised learning, you might want\u001b[39m\u001b[38;5;124m\"\u001b[39m\n\u001b[0;32m   (...)\u001b[0m\n\u001b[1;32m    169\u001b[0m         \u001b[38;5;124m\"\u001b[39m\u001b[38;5;124m#estimators-that-handle-nan-values\u001b[39m\u001b[38;5;124m\"\u001b[39m\n\u001b[1;32m    170\u001b[0m     )\n\u001b[0;32m--> 171\u001b[0m \u001b[38;5;28;01mraise\u001b[39;00m \u001b[38;5;167;01mValueError\u001b[39;00m(msg_err)\n",
      "\u001b[0;31mValueError\u001b[0m: Input y contains NaN."
     ]
    }
   ],
   "source": [
    "oof_predictions,test_predictions, model = get_models_trained(train,test,target,15)"
   ]
  },
  {
   "cell_type": "markdown",
   "metadata": {},
   "source": [
    "## 後分析"
   ]
  },
  {
   "cell_type": "code",
   "execution_count": null,
   "metadata": {},
   "outputs": [
    {
     "data": {
      "image/png": "[encoded data removed]",
      "text/plain": [
       "<Figure size 1200x600 with 1 Axes>"
      ]
     },
     "metadata": {},
     "output_type": "display_data"
    }
   ],
   "source": [
    "\n",
    "# show the feature importance\n",
    "import matplotlib.pyplot as plt\n",
    "import seaborn as sns\n",
    "\n",
    "def plot_feature_importance(model, columns):\n",
    "    feature_importance = model.feature_importances_\n",
    "    sorted_idx = np.argsort(feature_importance)\n",
    "    pos = np.arange(sorted_idx.shape[0]) + .5\n",
    "    fig = plt.figure(figsize=(12, 6))\n",
    "    plt.barh(pos, feature_importance[sorted_idx], align='center')\n",
    "    plt.yticks(pos, np.array(columns)[sorted_idx])\n",
    "    plt.title('Feature Importance')\n",
    "    plt.show()\n",
    "\n",
    "plot_feature_importance(model, numerical_columns)"
   ]
  },
  {
   "cell_type": "code",
   "execution_count": null,
   "metadata": {},
   "outputs": [],
   "source": [
    "submit  =  pd.read_csv ( 'sample_submission.csv' ,  header = None ) \n",
    "submit [ 1 ]  =  test_predictions \n",
    "submit.to_csv( 'submission_5.csv' ,  header = None ,  index = False )"
   ]
  }
 ],
 "metadata": {
  "kernelspec": {
   "display_name": "base",
   "language": "python",
   "name": "python3"
  },
  "language_info": {
   "codemirror_mode": {
    "name": "ipython",
    "version": 3
   },
   "file_extension": ".py",
   "mimetype": "text/x-python",
   "name": "python",
   "nbconvert_exporter": "python",
   "pygments_lexer": "ipython3",
   "version": "3.11.6"
  }
 },
 "nbformat": 4,
 "nbformat_minor": 2
}
